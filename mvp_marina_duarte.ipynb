{
 "cells": [
  {
   "cell_type": "markdown",
   "metadata": {
    "application/vnd.databricks.v1+cell": {
     "cellMetadata": {},
     "inputWidgets": {},
     "nuid": "cd83c2d8-f73c-477a-b2d3-f4f9880cc22b",
     "showTitle": false,
     "tableResultSettingsMap": {},
     "title": ""
    }
   },
   "source": [
    "# MVP Sprint Engenharia de Dados - Pós Graduação em Ciência de dados e Analytics - PUC-rj 2025\n",
    "## ---------\n",
    "## Avaliação de usuários da Netflix"
   ]
  },
  {
   "cell_type": "markdown",
   "metadata": {
    "application/vnd.databricks.v1+cell": {
     "cellMetadata": {},
     "inputWidgets": {},
     "nuid": "74c392c4-8647-489a-9c78-53c95deaa86a",
     "showTitle": false,
     "tableResultSettingsMap": {},
     "title": ""
    }
   },
   "source": [
    "### Objetivo\n",
    "\n",
    "Neste trabalho, objetivou-se construir um pipeline de dados utilizando databricks que envolveu coleta, carga, modelagem e análise dos dados para obter insights.\n",
    "\n",
    "Nesse projeto, seguiremos com um **modelo flat table**.\n",
    "\n",
    "O objetivo aqui proposto é de **estudar o comportamento de diferentes usuários** em uma plataforma de streaming para verificar se diferentes grupos tem diferentes comportamentos.\n",
    "\n",
    "Para tanto, utilizou-se um dataset obtido no site kaggle (Link: https://pucrio.grupoa.education/plataforma/course/1543924/content/28599812)  que contém 25k amostras de dados fictícios de usuários da netflix para análise, visualização e prática. Incluindo informações demográficas dos usuários, tipo de plano de assinatura, tempo de uso, histórico de login para cada usuário, entre outros dados.\n",
    "\n",
    "Nesse contexto, o objetivo desta análise é entender:\n",
    "1. Existe algum plano mais comum entre os usuários avaliados?\n",
    "2. Existe algum país no qual haja mais usuários?\n",
    "3. Existe alguma faixa etária mais presente entre os usuários?\n",
    "4. Como se distribui os usuários em relação ao genêro (masculino x feminino)?\n",
    "5. Usuários mais jovens tem maior tempo de visualização na plataforma?\n",
    "6. Usuários mais idosos ficam mais tempo sem logar?\n",
    "7. Existe algum genero de filme de preferência? Esse genêro muda por país? E por faixa etária? E por sexo?\n"
   ]
  },
  {
   "cell_type": "code",
   "execution_count": 0,
   "metadata": {
    "application/vnd.databricks.v1+cell": {
     "cellMetadata": {
      "byteLimit": 2048000,
      "rowLimit": 10000
     },
     "inputWidgets": {},
     "nuid": "3aa29daa-2e65-4dca-965f-048da16bf9e9",
     "showTitle": true,
     "tableResultSettingsMap": {},
     "title": "Imports básicos para utilização"
    }
   },
   "outputs": [
    {
     "output_type": "display_data",
     "data": {
      "application/vnd.databricks.v1+bamboolib_hint": "{\"pd.DataFrames\": [], \"version\": \"0.0.1\"}",
      "text/plain": []
     },
     "metadata": {},
     "output_type": "display_data"
    }
   ],
   "source": [
    "import pandas as pd\n",
    "import io\n",
    "import requests"
   ]
  },
  {
   "cell_type": "code",
   "execution_count": 0,
   "metadata": {
    "application/vnd.databricks.v1+cell": {
     "cellMetadata": {
      "byteLimit": 2048000,
      "rowLimit": 10000
     },
     "inputWidgets": {},
     "nuid": "d6eb69ef-c315-43b5-810b-0b75952e93d6",
     "showTitle": true,
     "tableResultSettingsMap": {},
     "title": "Coleta - importação dos dados de usuários netflix para dataframe spark"
    }
   },
   "outputs": [],
   "source": [
    "netflix_users_df = spark.read.option(\"header\", True).option(\"sep\", \",\").csv(\"dbfs:/FileStore/tables/netflix_users.csv\")"
   ]
  },
  {
   "cell_type": "markdown",
   "metadata": {
    "application/vnd.databricks.v1+cell": {
     "cellMetadata": {},
     "inputWidgets": {},
     "nuid": "c6f40f01-c218-4091-ae28-5228a91d9c6c",
     "showTitle": false,
     "tableResultSettingsMap": {},
     "title": ""
    }
   },
   "source": [
    "Observa-se que todos os dados foram importados como texto ('string')"
   ]
  },
  {
   "cell_type": "code",
   "execution_count": 0,
   "metadata": {
    "application/vnd.databricks.v1+cell": {
     "cellMetadata": {
      "byteLimit": 2048000,
      "rowLimit": 10000
     },
     "inputWidgets": {},
     "nuid": "205f4922-8391-4d5f-9e97-db00f41d66af",
     "showTitle": true,
     "tableResultSettingsMap": {},
     "title": "Verificação dos dados adicionados"
    }
   },
   "outputs": [
    {
     "output_type": "stream",
     "name": "stdout",
     "output_type": "stream",
     "text": [
      "+-------+---------------+---+---------+-----------------+----------------+--------------+----------+\n|User_ID|           Name|Age|  Country|Subscription_Type|Watch_Time_Hours|Favorite_Genre|Last_Login|\n+-------+---------------+---+---------+-----------------+----------------+--------------+----------+\n|      1| James Martinez| 18|   France|          Premium|           80.26|         Drama|2024-05-12|\n|      2|    John Miller| 23|      USA|          Premium|          321.75|        Sci-Fi|2025-02-05|\n|      3|     Emma Davis| 60|       UK|            Basic|           35.89|        Comedy|2025-01-24|\n|      4|    Emma Miller| 44|      USA|          Premium|          261.56|   Documentary|2024-03-25|\n|      5|     Jane Smith| 68|      USA|         Standard|           909.3|         Drama|2025-01-14|\n|      6|  David Johnson| 21|      USA|         Standard|          615.93|       Romance|2025-02-03|\n|      7| John Hernandez| 57|   Canada|         Standard|          755.47|       Romance|2025-01-05|\n|      8|Katie Hernandez| 68|      USA|         Standard|          145.23|        Sci-Fi|2024-10-30|\n|      9| James Williams| 39|       UK|            Basic|          950.14|        Action|2024-04-16|\n|     10|     Alex Davis| 55|   Mexico|         Standard|          696.66|        Horror|2024-07-03|\n|     11|    Jane Miller| 26|    Japan|         Standard|          290.31|        Action|2024-09-11|\n|     12|  Jane Martinez| 62|      USA|         Standard|          490.39|        Action|2024-06-12|\n|     13|  Alex Martinez| 65|Australia|          Premium|          712.23|        Comedy|2024-08-08|\n|     14|     Alex Smith| 35|  Germany|          Premium|           73.63|        Sci-Fi|2024-10-02|\n|     15|  Michael Jones| 68|      USA|          Premium|           359.3|        Sci-Fi|2024-07-25|\n|     16|   Chris Miller| 39|Australia|          Premium|          768.19|        Comedy|2024-10-11|\n|     17|    Chris Davis| 74|       UK|         Standard|           610.7|         Drama|2024-07-03|\n|     18|  Emma Williams| 59|   Canada|          Premium|          813.46|   Documentary|2024-08-08|\n|     19|   Alex Johnson| 63|   Brazil|          Premium|          963.64|        Action|2024-08-08|\n|     20|     John Jones| 67|   Canada|         Standard|           460.6|        Comedy|2024-12-07|\n+-------+---------------+---+---------+-----------------+----------------+--------------+----------+\nonly showing top 20 rows\n\n"
     ]
    }
   ],
   "source": [
    "netflix_users_df.show()"
   ]
  },
  {
   "cell_type": "markdown",
   "metadata": {
    "application/vnd.databricks.v1+cell": {
     "cellMetadata": {},
     "inputWidgets": {},
     "nuid": "03f615d2-2d8f-47df-9d8c-c0d44f258c7e",
     "showTitle": false,
     "tableResultSettingsMap": {},
     "title": ""
    }
   },
   "source": [
    "Verificada a tabela, será criada um primeiro stage onde será adicionado esse dataframe AS IS.\n",
    "\n"
   ]
  },
  {
   "cell_type": "code",
   "execution_count": 0,
   "metadata": {
    "application/vnd.databricks.v1+cell": {
     "cellMetadata": {
      "byteLimit": 2048000,
      "implicitDf": true,
      "rowLimit": 10000
     },
     "inputWidgets": {},
     "nuid": "05172758-150f-4851-bf1f-e5d8acf04490",
     "showTitle": true,
     "tableResultSettingsMap": {},
     "title": "Apagando o database \"bronze\" para ser recriado nesse projeto"
    }
   },
   "outputs": [
    {
     "output_type": "display_data",
     "data": {
      "text/html": [
       "<style scoped>\n",
       "  .table-result-container {\n",
       "    max-height: 300px;\n",
       "    overflow: auto;\n",
       "  }\n",
       "  table, th, td {\n",
       "    border: 1px solid black;\n",
       "    border-collapse: collapse;\n",
       "  }\n",
       "  th, td {\n",
       "    padding: 5px;\n",
       "  }\n",
       "  th {\n",
       "    text-align: left;\n",
       "  }\n",
       "</style><div class='table-result-container'><table class='table-result'><thead style='background-color: white'><tr></tr></thead><tbody></tbody></table></div>"
      ]
     },
     "metadata": {
      "application/vnd.databricks.v1+output": {
       "addedWidgets": {},
       "aggData": [],
       "aggError": "",
       "aggOverflow": false,
       "aggSchema": [],
       "aggSeriesLimitReached": false,
       "aggType": "",
       "arguments": {},
       "columnCustomDisplayInfos": {},
       "data": [],
       "datasetInfos": [],
       "dbfsResultPath": null,
       "isJsonSchema": true,
       "metadata": {},
       "overflow": false,
       "plotOptions": {
        "customPlotOptions": {},
        "displayType": "table",
        "pivotAggregation": null,
        "pivotColumns": null,
        "xColumns": null,
        "yColumns": null
       },
       "removedWidgets": [],
       "schema": [],
       "type": "table"
      }
     },
     "output_type": "display_data"
    }
   ],
   "source": [
    "%sql DROP DATABASE bronze CASCADE;"
   ]
  },
  {
   "cell_type": "code",
   "execution_count": 0,
   "metadata": {
    "application/vnd.databricks.v1+cell": {
     "cellMetadata": {
      "byteLimit": 2048000,
      "implicitDf": true,
      "rowLimit": 10000
     },
     "inputWidgets": {},
     "nuid": "279c1f98-b763-4357-94f4-57c8e7e67483",
     "showTitle": true,
     "tableResultSettingsMap": {},
     "title": "Criando o database bronze ainda vazio"
    }
   },
   "outputs": [
    {
     "output_type": "display_data",
     "data": {
      "text/html": [
       "<style scoped>\n",
       "  .table-result-container {\n",
       "    max-height: 300px;\n",
       "    overflow: auto;\n",
       "  }\n",
       "  table, th, td {\n",
       "    border: 1px solid black;\n",
       "    border-collapse: collapse;\n",
       "  }\n",
       "  th, td {\n",
       "    padding: 5px;\n",
       "  }\n",
       "  th {\n",
       "    text-align: left;\n",
       "  }\n",
       "</style><div class='table-result-container'><table class='table-result'><thead style='background-color: white'><tr></tr></thead><tbody></tbody></table></div>"
      ]
     },
     "metadata": {
      "application/vnd.databricks.v1+output": {
       "addedWidgets": {},
       "aggData": [],
       "aggError": "",
       "aggOverflow": false,
       "aggSchema": [],
       "aggSeriesLimitReached": false,
       "aggType": "",
       "arguments": {},
       "columnCustomDisplayInfos": {},
       "data": [],
       "datasetInfos": [],
       "dbfsResultPath": null,
       "isJsonSchema": true,
       "metadata": {},
       "overflow": false,
       "plotOptions": {
        "customPlotOptions": {},
        "displayType": "table",
        "pivotAggregation": null,
        "pivotColumns": null,
        "xColumns": null,
        "yColumns": null
       },
       "removedWidgets": [],
       "schema": [],
       "type": "table"
      }
     },
     "output_type": "display_data"
    }
   ],
   "source": [
    "%sql CREATE DATABASE bronze;"
   ]
  },
  {
   "cell_type": "code",
   "execution_count": 0,
   "metadata": {
    "application/vnd.databricks.v1+cell": {
     "cellMetadata": {
      "byteLimit": 2048000,
      "rowLimit": 10000
     },
     "inputWidgets": {},
     "nuid": "ce7b1c44-7e97-45ed-9cba-bed30c468f24",
     "showTitle": true,
     "tableResultSettingsMap": {},
     "title": "Criando a tabela netflix_users a partir do dataframe"
    }
   },
   "outputs": [],
   "source": [
    "netflix_users_df.write.mode(\"overwrite\").saveAsTable(\"bronze.netflix_users\")"
   ]
  },
  {
   "cell_type": "code",
   "execution_count": 0,
   "metadata": {
    "application/vnd.databricks.v1+cell": {
     "cellMetadata": {
      "byteLimit": 2048000,
      "implicitDf": true,
      "rowLimit": 10000
     },
     "inputWidgets": {},
     "nuid": "a0e130b7-af47-45ba-9b4e-5d7bdccbb4f9",
     "showTitle": true,
     "tableResultSettingsMap": {},
     "title": "Verificação da tabela criada visualmente"
    }
   },
   "outputs": [
    {
     "output_type": "display_data",
     "data": {
      "text/html": [
       "<style scoped>\n",
       "  .table-result-container {\n",
       "    max-height: 300px;\n",
       "    overflow: auto;\n",
       "  }\n",
       "  table, th, td {\n",
       "    border: 1px solid black;\n",
       "    border-collapse: collapse;\n",
       "  }\n",
       "  th, td {\n",
       "    padding: 5px;\n",
       "  }\n",
       "  th {\n",
       "    text-align: left;\n",
       "  }\n",
       "</style><div class='table-result-container'><table class='table-result'><thead style='background-color: white'><tr><th>User_ID</th><th>Name</th><th>Age</th><th>Country</th><th>Subscription_Type</th><th>Watch_Time_Hours</th><th>Favorite_Genre</th><th>Last_Login</th></tr></thead><tbody><tr><td>1</td><td>James Martinez</td><td>18</td><td>France</td><td>Premium</td><td>80.26</td><td>Drama</td><td>2024-05-12</td></tr><tr><td>2</td><td>John Miller</td><td>23</td><td>USA</td><td>Premium</td><td>321.75</td><td>Sci-Fi</td><td>2025-02-05</td></tr><tr><td>3</td><td>Emma Davis</td><td>60</td><td>UK</td><td>Basic</td><td>35.89</td><td>Comedy</td><td>2025-01-24</td></tr><tr><td>4</td><td>Emma Miller</td><td>44</td><td>USA</td><td>Premium</td><td>261.56</td><td>Documentary</td><td>2024-03-25</td></tr><tr><td>5</td><td>Jane Smith</td><td>68</td><td>USA</td><td>Standard</td><td>909.3</td><td>Drama</td><td>2025-01-14</td></tr><tr><td>6</td><td>David Johnson</td><td>21</td><td>USA</td><td>Standard</td><td>615.93</td><td>Romance</td><td>2025-02-03</td></tr><tr><td>7</td><td>John Hernandez</td><td>57</td><td>Canada</td><td>Standard</td><td>755.47</td><td>Romance</td><td>2025-01-05</td></tr><tr><td>8</td><td>Katie Hernandez</td><td>68</td><td>USA</td><td>Standard</td><td>145.23</td><td>Sci-Fi</td><td>2024-10-30</td></tr><tr><td>9</td><td>James Williams</td><td>39</td><td>UK</td><td>Basic</td><td>950.14</td><td>Action</td><td>2024-04-16</td></tr><tr><td>10</td><td>Alex Davis</td><td>55</td><td>Mexico</td><td>Standard</td><td>696.66</td><td>Horror</td><td>2024-07-03</td></tr></tbody></table></div>"
      ]
     },
     "metadata": {
      "application/vnd.databricks.v1+output": {
       "addedWidgets": {},
       "aggData": [],
       "aggError": "",
       "aggOverflow": false,
       "aggSchema": [],
       "aggSeriesLimitReached": false,
       "aggType": "",
       "arguments": {},
       "columnCustomDisplayInfos": {},
       "data": [
        [
         "1",
         "James Martinez",
         "18",
         "France",
         "Premium",
         "80.26",
         "Drama",
         "2024-05-12"
        ],
        [
         "2",
         "John Miller",
         "23",
         "USA",
         "Premium",
         "321.75",
         "Sci-Fi",
         "2025-02-05"
        ],
        [
         "3",
         "Emma Davis",
         "60",
         "UK",
         "Basic",
         "35.89",
         "Comedy",
         "2025-01-24"
        ],
        [
         "4",
         "Emma Miller",
         "44",
         "USA",
         "Premium",
         "261.56",
         "Documentary",
         "2024-03-25"
        ],
        [
         "5",
         "Jane Smith",
         "68",
         "USA",
         "Standard",
         "909.3",
         "Drama",
         "2025-01-14"
        ],
        [
         "6",
         "David Johnson",
         "21",
         "USA",
         "Standard",
         "615.93",
         "Romance",
         "2025-02-03"
        ],
        [
         "7",
         "John Hernandez",
         "57",
         "Canada",
         "Standard",
         "755.47",
         "Romance",
         "2025-01-05"
        ],
        [
         "8",
         "Katie Hernandez",
         "68",
         "USA",
         "Standard",
         "145.23",
         "Sci-Fi",
         "2024-10-30"
        ],
        [
         "9",
         "James Williams",
         "39",
         "UK",
         "Basic",
         "950.14",
         "Action",
         "2024-04-16"
        ],
        [
         "10",
         "Alex Davis",
         "55",
         "Mexico",
         "Standard",
         "696.66",
         "Horror",
         "2024-07-03"
        ]
       ],
       "datasetInfos": [],
       "dbfsResultPath": null,
       "isJsonSchema": true,
       "metadata": {},
       "overflow": false,
       "plotOptions": {
        "customPlotOptions": {},
        "displayType": "table",
        "pivotAggregation": null,
        "pivotColumns": null,
        "xColumns": null,
        "yColumns": null
       },
       "removedWidgets": [],
       "schema": [
        {
         "metadata": "{}",
         "name": "User_ID",
         "type": "\"string\""
        },
        {
         "metadata": "{}",
         "name": "Name",
         "type": "\"string\""
        },
        {
         "metadata": "{}",
         "name": "Age",
         "type": "\"string\""
        },
        {
         "metadata": "{}",
         "name": "Country",
         "type": "\"string\""
        },
        {
         "metadata": "{}",
         "name": "Subscription_Type",
         "type": "\"string\""
        },
        {
         "metadata": "{}",
         "name": "Watch_Time_Hours",
         "type": "\"string\""
        },
        {
         "metadata": "{}",
         "name": "Favorite_Genre",
         "type": "\"string\""
        },
        {
         "metadata": "{}",
         "name": "Last_Login",
         "type": "\"string\""
        }
       ],
       "type": "table"
      }
     },
     "output_type": "display_data"
    }
   ],
   "source": [
    "%sql SELECT * FROM bronze.netflix_users LIMIT 10"
   ]
  },
  {
   "cell_type": "markdown",
   "metadata": {
    "application/vnd.databricks.v1+cell": {
     "cellMetadata": {},
     "inputWidgets": {},
     "nuid": "16c7c45f-8f03-41db-ac04-dd618781c59e",
     "showTitle": false,
     "tableResultSettingsMap": {},
     "title": ""
    }
   },
   "source": [
    "Conforme citado, o dataframe foi importado AS IS como tabela para o stage bronze do pipeline.\n",
    "Pode-se notar que todas as colunas estão como texto, o que não condiz com a necessidade de análise.\n",
    "\n",
    "As colunas `age`, `Watch_Time_Hours` precisam ser numéricas para que possam ser usados em cálculos durante a análise.\n",
    "\n",
    "Já a coluna `Last_Login` é interessante que esteja em formato de data para ser possível fazer quebras temporais.\n",
    "\n",
    "Portanto, será criado um novo stage no qual esses dados serão tratados e passarão a estar no formato esperado para utilização.\n"
   ]
  },
  {
   "cell_type": "code",
   "execution_count": 0,
   "metadata": {
    "application/vnd.databricks.v1+cell": {
     "cellMetadata": {
      "byteLimit": 2048000,
      "implicitDf": true,
      "rowLimit": 10000
     },
     "inputWidgets": {},
     "nuid": "6b723c3c-4935-4bcf-b2ee-4f16a151be82",
     "showTitle": true,
     "tableResultSettingsMap": {},
     "title": "Apagando o database \"silver\" para ser recriado"
    }
   },
   "outputs": [
    {
     "output_type": "display_data",
     "data": {
      "text/plain": [
       "\u001B[0;31m---------------------------------------------------------------------------\u001B[0m\n",
       "\u001B[0;31mAnalysisException\u001B[0m                         Traceback (most recent call last)\n",
       "File \u001B[0;32m<command-2844001472037696>:7\u001B[0m\n",
       "\u001B[1;32m      5\u001B[0m     display(df)\n",
       "\u001B[1;32m      6\u001B[0m     \u001B[38;5;28;01mreturn\u001B[39;00m df\n",
       "\u001B[0;32m----> 7\u001B[0m   _sqldf \u001B[38;5;241m=\u001B[39m \u001B[43m____databricks_percent_sql\u001B[49m\u001B[43m(\u001B[49m\u001B[43m)\u001B[49m\n",
       "\u001B[1;32m      8\u001B[0m \u001B[38;5;28;01mfinally\u001B[39;00m:\n",
       "\u001B[1;32m      9\u001B[0m   \u001B[38;5;28;01mdel\u001B[39;00m ____databricks_percent_sql\n",
       "\n",
       "File \u001B[0;32m<command-2844001472037696>:4\u001B[0m, in \u001B[0;36m____databricks_percent_sql\u001B[0;34m()\u001B[0m\n",
       "\u001B[1;32m      2\u001B[0m \u001B[38;5;28;01mdef\u001B[39;00m \u001B[38;5;21m____databricks_percent_sql\u001B[39m():\n",
       "\u001B[1;32m      3\u001B[0m   \u001B[38;5;28;01mimport\u001B[39;00m \u001B[38;5;21;01mbase64\u001B[39;00m\n",
       "\u001B[0;32m----> 4\u001B[0m   df \u001B[38;5;241m=\u001B[39m \u001B[43mspark\u001B[49m\u001B[38;5;241;43m.\u001B[39;49m\u001B[43msql\u001B[49m\u001B[43m(\u001B[49m\u001B[43mbase64\u001B[49m\u001B[38;5;241;43m.\u001B[39;49m\u001B[43mstandard_b64decode\u001B[49m\u001B[43m(\u001B[49m\u001B[38;5;124;43m\"\u001B[39;49m\u001B[38;5;124;43mRFJPUCBEQVRBQkFTRSBzaWx2ZXIgQ0FTQ0FERQ==\u001B[39;49m\u001B[38;5;124;43m\"\u001B[39;49m\u001B[43m)\u001B[49m\u001B[38;5;241;43m.\u001B[39;49m\u001B[43mdecode\u001B[49m\u001B[43m(\u001B[49m\u001B[43m)\u001B[49m\u001B[43m)\u001B[49m\n",
       "\u001B[1;32m      5\u001B[0m   display(df)\n",
       "\u001B[1;32m      6\u001B[0m   \u001B[38;5;28;01mreturn\u001B[39;00m df\n",
       "\n",
       "File \u001B[0;32m/databricks/spark/python/pyspark/instrumentation_utils.py:48\u001B[0m, in \u001B[0;36m_wrap_function.<locals>.wrapper\u001B[0;34m(*args, **kwargs)\u001B[0m\n",
       "\u001B[1;32m     46\u001B[0m start \u001B[38;5;241m=\u001B[39m time\u001B[38;5;241m.\u001B[39mperf_counter()\n",
       "\u001B[1;32m     47\u001B[0m \u001B[38;5;28;01mtry\u001B[39;00m:\n",
       "\u001B[0;32m---> 48\u001B[0m     res \u001B[38;5;241m=\u001B[39m \u001B[43mfunc\u001B[49m\u001B[43m(\u001B[49m\u001B[38;5;241;43m*\u001B[39;49m\u001B[43margs\u001B[49m\u001B[43m,\u001B[49m\u001B[43m \u001B[49m\u001B[38;5;241;43m*\u001B[39;49m\u001B[38;5;241;43m*\u001B[39;49m\u001B[43mkwargs\u001B[49m\u001B[43m)\u001B[49m\n",
       "\u001B[1;32m     49\u001B[0m     logger\u001B[38;5;241m.\u001B[39mlog_success(\n",
       "\u001B[1;32m     50\u001B[0m         module_name, class_name, function_name, time\u001B[38;5;241m.\u001B[39mperf_counter() \u001B[38;5;241m-\u001B[39m start, signature\n",
       "\u001B[1;32m     51\u001B[0m     )\n",
       "\u001B[1;32m     52\u001B[0m     \u001B[38;5;28;01mreturn\u001B[39;00m res\n",
       "\n",
       "File \u001B[0;32m/databricks/spark/python/pyspark/sql/session.py:1387\u001B[0m, in \u001B[0;36mSparkSession.sql\u001B[0;34m(self, sqlQuery, args, **kwargs)\u001B[0m\n",
       "\u001B[1;32m   1385\u001B[0m \u001B[38;5;28;01mtry\u001B[39;00m:\n",
       "\u001B[1;32m   1386\u001B[0m     litArgs \u001B[38;5;241m=\u001B[39m {k: _to_java_column(lit(v)) \u001B[38;5;28;01mfor\u001B[39;00m k, v \u001B[38;5;129;01min\u001B[39;00m (args \u001B[38;5;129;01mor\u001B[39;00m {})\u001B[38;5;241m.\u001B[39mitems()}\n",
       "\u001B[0;32m-> 1387\u001B[0m     \u001B[38;5;28;01mreturn\u001B[39;00m DataFrame(\u001B[38;5;28;43mself\u001B[39;49m\u001B[38;5;241;43m.\u001B[39;49m\u001B[43m_jsparkSession\u001B[49m\u001B[38;5;241;43m.\u001B[39;49m\u001B[43msql\u001B[49m\u001B[43m(\u001B[49m\u001B[43msqlQuery\u001B[49m\u001B[43m,\u001B[49m\u001B[43m \u001B[49m\u001B[43mlitArgs\u001B[49m\u001B[43m)\u001B[49m, \u001B[38;5;28mself\u001B[39m)\n",
       "\u001B[1;32m   1388\u001B[0m \u001B[38;5;28;01mfinally\u001B[39;00m:\n",
       "\u001B[1;32m   1389\u001B[0m     \u001B[38;5;28;01mif\u001B[39;00m \u001B[38;5;28mlen\u001B[39m(kwargs) \u001B[38;5;241m>\u001B[39m \u001B[38;5;241m0\u001B[39m:\n",
       "\n",
       "File \u001B[0;32m/databricks/spark/python/lib/py4j-0.10.9.5-src.zip/py4j/java_gateway.py:1321\u001B[0m, in \u001B[0;36mJavaMember.__call__\u001B[0;34m(self, *args)\u001B[0m\n",
       "\u001B[1;32m   1315\u001B[0m command \u001B[38;5;241m=\u001B[39m proto\u001B[38;5;241m.\u001B[39mCALL_COMMAND_NAME \u001B[38;5;241m+\u001B[39m\\\n",
       "\u001B[1;32m   1316\u001B[0m     \u001B[38;5;28mself\u001B[39m\u001B[38;5;241m.\u001B[39mcommand_header \u001B[38;5;241m+\u001B[39m\\\n",
       "\u001B[1;32m   1317\u001B[0m     args_command \u001B[38;5;241m+\u001B[39m\\\n",
       "\u001B[1;32m   1318\u001B[0m     proto\u001B[38;5;241m.\u001B[39mEND_COMMAND_PART\n",
       "\u001B[1;32m   1320\u001B[0m answer \u001B[38;5;241m=\u001B[39m \u001B[38;5;28mself\u001B[39m\u001B[38;5;241m.\u001B[39mgateway_client\u001B[38;5;241m.\u001B[39msend_command(command)\n",
       "\u001B[0;32m-> 1321\u001B[0m return_value \u001B[38;5;241m=\u001B[39m \u001B[43mget_return_value\u001B[49m\u001B[43m(\u001B[49m\n",
       "\u001B[1;32m   1322\u001B[0m \u001B[43m    \u001B[49m\u001B[43manswer\u001B[49m\u001B[43m,\u001B[49m\u001B[43m \u001B[49m\u001B[38;5;28;43mself\u001B[39;49m\u001B[38;5;241;43m.\u001B[39;49m\u001B[43mgateway_client\u001B[49m\u001B[43m,\u001B[49m\u001B[43m \u001B[49m\u001B[38;5;28;43mself\u001B[39;49m\u001B[38;5;241;43m.\u001B[39;49m\u001B[43mtarget_id\u001B[49m\u001B[43m,\u001B[49m\u001B[43m \u001B[49m\u001B[38;5;28;43mself\u001B[39;49m\u001B[38;5;241;43m.\u001B[39;49m\u001B[43mname\u001B[49m\u001B[43m)\u001B[49m\n",
       "\u001B[1;32m   1324\u001B[0m \u001B[38;5;28;01mfor\u001B[39;00m temp_arg \u001B[38;5;129;01min\u001B[39;00m temp_args:\n",
       "\u001B[1;32m   1325\u001B[0m     temp_arg\u001B[38;5;241m.\u001B[39m_detach()\n",
       "\n",
       "File \u001B[0;32m/databricks/spark/python/pyspark/errors/exceptions.py:234\u001B[0m, in \u001B[0;36mcapture_sql_exception.<locals>.deco\u001B[0;34m(*a, **kw)\u001B[0m\n",
       "\u001B[1;32m    230\u001B[0m converted \u001B[38;5;241m=\u001B[39m convert_exception(e\u001B[38;5;241m.\u001B[39mjava_exception)\n",
       "\u001B[1;32m    231\u001B[0m \u001B[38;5;28;01mif\u001B[39;00m \u001B[38;5;129;01mnot\u001B[39;00m \u001B[38;5;28misinstance\u001B[39m(converted, UnknownException):\n",
       "\u001B[1;32m    232\u001B[0m     \u001B[38;5;66;03m# Hide where the exception came from that shows a non-Pythonic\u001B[39;00m\n",
       "\u001B[1;32m    233\u001B[0m     \u001B[38;5;66;03m# JVM exception message.\u001B[39;00m\n",
       "\u001B[0;32m--> 234\u001B[0m     \u001B[38;5;28;01mraise\u001B[39;00m converted \u001B[38;5;28;01mfrom\u001B[39;00m \u001B[38;5;28mNone\u001B[39m\n",
       "\u001B[1;32m    235\u001B[0m \u001B[38;5;28;01melse\u001B[39;00m:\n",
       "\u001B[1;32m    236\u001B[0m     \u001B[38;5;28;01mraise\u001B[39;00m\n",
       "\n",
       "\u001B[0;31mAnalysisException\u001B[0m: [SCHEMA_NOT_FOUND] The schema `silver` cannot be found. Verify the spelling and correctness of the schema and catalog.\n",
       "If you did not qualify the name with a catalog, verify the current_schema() output, or qualify the name with the correct catalog.\n",
       "To tolerate the error on drop use DROP SCHEMA IF EXISTS."
      ]
     },
     "metadata": {
      "application/vnd.databricks.v1+output": {
       "arguments": {},
       "data": "\u001B[0;31m---------------------------------------------------------------------------\u001B[0m\n\u001B[0;31mAnalysisException\u001B[0m                         Traceback (most recent call last)\nFile \u001B[0;32m<command-2844001472037696>:7\u001B[0m\n\u001B[1;32m      5\u001B[0m     display(df)\n\u001B[1;32m      6\u001B[0m     \u001B[38;5;28;01mreturn\u001B[39;00m df\n\u001B[0;32m----> 7\u001B[0m   _sqldf \u001B[38;5;241m=\u001B[39m \u001B[43m____databricks_percent_sql\u001B[49m\u001B[43m(\u001B[49m\u001B[43m)\u001B[49m\n\u001B[1;32m      8\u001B[0m \u001B[38;5;28;01mfinally\u001B[39;00m:\n\u001B[1;32m      9\u001B[0m   \u001B[38;5;28;01mdel\u001B[39;00m ____databricks_percent_sql\n\nFile \u001B[0;32m<command-2844001472037696>:4\u001B[0m, in \u001B[0;36m____databricks_percent_sql\u001B[0;34m()\u001B[0m\n\u001B[1;32m      2\u001B[0m \u001B[38;5;28;01mdef\u001B[39;00m \u001B[38;5;21m____databricks_percent_sql\u001B[39m():\n\u001B[1;32m      3\u001B[0m   \u001B[38;5;28;01mimport\u001B[39;00m \u001B[38;5;21;01mbase64\u001B[39;00m\n\u001B[0;32m----> 4\u001B[0m   df \u001B[38;5;241m=\u001B[39m \u001B[43mspark\u001B[49m\u001B[38;5;241;43m.\u001B[39;49m\u001B[43msql\u001B[49m\u001B[43m(\u001B[49m\u001B[43mbase64\u001B[49m\u001B[38;5;241;43m.\u001B[39;49m\u001B[43mstandard_b64decode\u001B[49m\u001B[43m(\u001B[49m\u001B[38;5;124;43m\"\u001B[39;49m\u001B[38;5;124;43mRFJPUCBEQVRBQkFTRSBzaWx2ZXIgQ0FTQ0FERQ==\u001B[39;49m\u001B[38;5;124;43m\"\u001B[39;49m\u001B[43m)\u001B[49m\u001B[38;5;241;43m.\u001B[39;49m\u001B[43mdecode\u001B[49m\u001B[43m(\u001B[49m\u001B[43m)\u001B[49m\u001B[43m)\u001B[49m\n\u001B[1;32m      5\u001B[0m   display(df)\n\u001B[1;32m      6\u001B[0m   \u001B[38;5;28;01mreturn\u001B[39;00m df\n\nFile \u001B[0;32m/databricks/spark/python/pyspark/instrumentation_utils.py:48\u001B[0m, in \u001B[0;36m_wrap_function.<locals>.wrapper\u001B[0;34m(*args, **kwargs)\u001B[0m\n\u001B[1;32m     46\u001B[0m start \u001B[38;5;241m=\u001B[39m time\u001B[38;5;241m.\u001B[39mperf_counter()\n\u001B[1;32m     47\u001B[0m \u001B[38;5;28;01mtry\u001B[39;00m:\n\u001B[0;32m---> 48\u001B[0m     res \u001B[38;5;241m=\u001B[39m \u001B[43mfunc\u001B[49m\u001B[43m(\u001B[49m\u001B[38;5;241;43m*\u001B[39;49m\u001B[43margs\u001B[49m\u001B[43m,\u001B[49m\u001B[43m \u001B[49m\u001B[38;5;241;43m*\u001B[39;49m\u001B[38;5;241;43m*\u001B[39;49m\u001B[43mkwargs\u001B[49m\u001B[43m)\u001B[49m\n\u001B[1;32m     49\u001B[0m     logger\u001B[38;5;241m.\u001B[39mlog_success(\n\u001B[1;32m     50\u001B[0m         module_name, class_name, function_name, time\u001B[38;5;241m.\u001B[39mperf_counter() \u001B[38;5;241m-\u001B[39m start, signature\n\u001B[1;32m     51\u001B[0m     )\n\u001B[1;32m     52\u001B[0m     \u001B[38;5;28;01mreturn\u001B[39;00m res\n\nFile \u001B[0;32m/databricks/spark/python/pyspark/sql/session.py:1387\u001B[0m, in \u001B[0;36mSparkSession.sql\u001B[0;34m(self, sqlQuery, args, **kwargs)\u001B[0m\n\u001B[1;32m   1385\u001B[0m \u001B[38;5;28;01mtry\u001B[39;00m:\n\u001B[1;32m   1386\u001B[0m     litArgs \u001B[38;5;241m=\u001B[39m {k: _to_java_column(lit(v)) \u001B[38;5;28;01mfor\u001B[39;00m k, v \u001B[38;5;129;01min\u001B[39;00m (args \u001B[38;5;129;01mor\u001B[39;00m {})\u001B[38;5;241m.\u001B[39mitems()}\n\u001B[0;32m-> 1387\u001B[0m     \u001B[38;5;28;01mreturn\u001B[39;00m DataFrame(\u001B[38;5;28;43mself\u001B[39;49m\u001B[38;5;241;43m.\u001B[39;49m\u001B[43m_jsparkSession\u001B[49m\u001B[38;5;241;43m.\u001B[39;49m\u001B[43msql\u001B[49m\u001B[43m(\u001B[49m\u001B[43msqlQuery\u001B[49m\u001B[43m,\u001B[49m\u001B[43m \u001B[49m\u001B[43mlitArgs\u001B[49m\u001B[43m)\u001B[49m, \u001B[38;5;28mself\u001B[39m)\n\u001B[1;32m   1388\u001B[0m \u001B[38;5;28;01mfinally\u001B[39;00m:\n\u001B[1;32m   1389\u001B[0m     \u001B[38;5;28;01mif\u001B[39;00m \u001B[38;5;28mlen\u001B[39m(kwargs) \u001B[38;5;241m>\u001B[39m \u001B[38;5;241m0\u001B[39m:\n\nFile \u001B[0;32m/databricks/spark/python/lib/py4j-0.10.9.5-src.zip/py4j/java_gateway.py:1321\u001B[0m, in \u001B[0;36mJavaMember.__call__\u001B[0;34m(self, *args)\u001B[0m\n\u001B[1;32m   1315\u001B[0m command \u001B[38;5;241m=\u001B[39m proto\u001B[38;5;241m.\u001B[39mCALL_COMMAND_NAME \u001B[38;5;241m+\u001B[39m\\\n\u001B[1;32m   1316\u001B[0m     \u001B[38;5;28mself\u001B[39m\u001B[38;5;241m.\u001B[39mcommand_header \u001B[38;5;241m+\u001B[39m\\\n\u001B[1;32m   1317\u001B[0m     args_command \u001B[38;5;241m+\u001B[39m\\\n\u001B[1;32m   1318\u001B[0m     proto\u001B[38;5;241m.\u001B[39mEND_COMMAND_PART\n\u001B[1;32m   1320\u001B[0m answer \u001B[38;5;241m=\u001B[39m \u001B[38;5;28mself\u001B[39m\u001B[38;5;241m.\u001B[39mgateway_client\u001B[38;5;241m.\u001B[39msend_command(command)\n\u001B[0;32m-> 1321\u001B[0m return_value \u001B[38;5;241m=\u001B[39m \u001B[43mget_return_value\u001B[49m\u001B[43m(\u001B[49m\n\u001B[1;32m   1322\u001B[0m \u001B[43m    \u001B[49m\u001B[43manswer\u001B[49m\u001B[43m,\u001B[49m\u001B[43m \u001B[49m\u001B[38;5;28;43mself\u001B[39;49m\u001B[38;5;241;43m.\u001B[39;49m\u001B[43mgateway_client\u001B[49m\u001B[43m,\u001B[49m\u001B[43m \u001B[49m\u001B[38;5;28;43mself\u001B[39;49m\u001B[38;5;241;43m.\u001B[39;49m\u001B[43mtarget_id\u001B[49m\u001B[43m,\u001B[49m\u001B[43m \u001B[49m\u001B[38;5;28;43mself\u001B[39;49m\u001B[38;5;241;43m.\u001B[39;49m\u001B[43mname\u001B[49m\u001B[43m)\u001B[49m\n\u001B[1;32m   1324\u001B[0m \u001B[38;5;28;01mfor\u001B[39;00m temp_arg \u001B[38;5;129;01min\u001B[39;00m temp_args:\n\u001B[1;32m   1325\u001B[0m     temp_arg\u001B[38;5;241m.\u001B[39m_detach()\n\nFile \u001B[0;32m/databricks/spark/python/pyspark/errors/exceptions.py:234\u001B[0m, in \u001B[0;36mcapture_sql_exception.<locals>.deco\u001B[0;34m(*a, **kw)\u001B[0m\n\u001B[1;32m    230\u001B[0m converted \u001B[38;5;241m=\u001B[39m convert_exception(e\u001B[38;5;241m.\u001B[39mjava_exception)\n\u001B[1;32m    231\u001B[0m \u001B[38;5;28;01mif\u001B[39;00m \u001B[38;5;129;01mnot\u001B[39;00m \u001B[38;5;28misinstance\u001B[39m(converted, UnknownException):\n\u001B[1;32m    232\u001B[0m     \u001B[38;5;66;03m# Hide where the exception came from that shows a non-Pythonic\u001B[39;00m\n\u001B[1;32m    233\u001B[0m     \u001B[38;5;66;03m# JVM exception message.\u001B[39;00m\n\u001B[0;32m--> 234\u001B[0m     \u001B[38;5;28;01mraise\u001B[39;00m converted \u001B[38;5;28;01mfrom\u001B[39;00m \u001B[38;5;28mNone\u001B[39m\n\u001B[1;32m    235\u001B[0m \u001B[38;5;28;01melse\u001B[39;00m:\n\u001B[1;32m    236\u001B[0m     \u001B[38;5;28;01mraise\u001B[39;00m\n\n\u001B[0;31mAnalysisException\u001B[0m: [SCHEMA_NOT_FOUND] The schema `silver` cannot be found. Verify the spelling and correctness of the schema and catalog.\nIf you did not qualify the name with a catalog, verify the current_schema() output, or qualify the name with the correct catalog.\nTo tolerate the error on drop use DROP SCHEMA IF EXISTS.",
       "errorSummary": "<span class='ansi-red-fg'>AnalysisException</span>: [SCHEMA_NOT_FOUND] The schema `silver` cannot be found. Verify the spelling and correctness of the schema and catalog.\nIf you did not qualify the name with a catalog, verify the current_schema() output, or qualify the name with the correct catalog.\nTo tolerate the error on drop use DROP SCHEMA IF EXISTS.",
       "errorTraceType": "ansi",
       "metadata": {},
       "type": "ipynbError"
      }
     },
     "output_type": "display_data"
    }
   ],
   "source": [
    "%sql DROP DATABASE silver CASCADE"
   ]
  },
  {
   "cell_type": "code",
   "execution_count": 0,
   "metadata": {
    "application/vnd.databricks.v1+cell": {
     "cellMetadata": {
      "byteLimit": 2048000,
      "implicitDf": true,
      "rowLimit": 10000
     },
     "inputWidgets": {},
     "nuid": "b20b977e-4c32-45d4-9aaf-faf02064b204",
     "showTitle": true,
     "tableResultSettingsMap": {},
     "title": "Criando o database silver"
    }
   },
   "outputs": [
    {
     "output_type": "display_data",
     "data": {
      "text/html": [
       "<style scoped>\n",
       "  .table-result-container {\n",
       "    max-height: 300px;\n",
       "    overflow: auto;\n",
       "  }\n",
       "  table, th, td {\n",
       "    border: 1px solid black;\n",
       "    border-collapse: collapse;\n",
       "  }\n",
       "  th, td {\n",
       "    padding: 5px;\n",
       "  }\n",
       "  th {\n",
       "    text-align: left;\n",
       "  }\n",
       "</style><div class='table-result-container'><table class='table-result'><thead style='background-color: white'><tr></tr></thead><tbody></tbody></table></div>"
      ]
     },
     "metadata": {
      "application/vnd.databricks.v1+output": {
       "addedWidgets": {},
       "aggData": [],
       "aggError": "",
       "aggOverflow": false,
       "aggSchema": [],
       "aggSeriesLimitReached": false,
       "aggType": "",
       "arguments": {},
       "columnCustomDisplayInfos": {},
       "data": [],
       "datasetInfos": [],
       "dbfsResultPath": null,
       "isJsonSchema": true,
       "metadata": {},
       "overflow": false,
       "plotOptions": {
        "customPlotOptions": {},
        "displayType": "table",
        "pivotAggregation": null,
        "pivotColumns": null,
        "xColumns": null,
        "yColumns": null
       },
       "removedWidgets": [],
       "schema": [],
       "type": "table"
      }
     },
     "output_type": "display_data"
    }
   ],
   "source": [
    "%sql CREATE DATABASE silver"
   ]
  },
  {
   "cell_type": "code",
   "execution_count": 0,
   "metadata": {
    "application/vnd.databricks.v1+cell": {
     "cellMetadata": {
      "byteLimit": 2048000,
      "rowLimit": 10000
     },
     "inputWidgets": {},
     "nuid": "fa76dc21-866e-43a7-8291-39fecd8cef69",
     "showTitle": true,
     "tableResultSettingsMap": {},
     "title": "Convertendo a coluna \"Last Login\" para o formato date"
    }
   },
   "outputs": [],
   "source": [
    "from pyspark.sql.functions import to_date\n",
    "\n",
    "netflix_users_df_silver = netflix_users_df.withColumn(\"Last_Login\", to_date(netflix_users_df[\"Last_Login\"], \"yyyy-MM-dd\"))"
   ]
  },
  {
   "cell_type": "code",
   "execution_count": 0,
   "metadata": {
    "application/vnd.databricks.v1+cell": {
     "cellMetadata": {
      "byteLimit": 2048000,
      "rowLimit": 10000
     },
     "inputWidgets": {},
     "nuid": "fdb48898-04e0-48f6-afbd-d221b6bd6faf",
     "showTitle": true,
     "tableResultSettingsMap": {},
     "title": "Convertendo a coluna \"Age\" para inteiro"
    }
   },
   "outputs": [],
   "source": [
    "from pyspark.sql.functions import col\n",
    "\n",
    "netflix_users_df_silver = netflix_users_df_silver.withColumn(\"Age\", col(\"Age\").cast(\"int\"))"
   ]
  },
  {
   "cell_type": "code",
   "execution_count": 0,
   "metadata": {
    "application/vnd.databricks.v1+cell": {
     "cellMetadata": {
      "byteLimit": 2048000,
      "rowLimit": 10000
     },
     "inputWidgets": {},
     "nuid": "0cd4d8ae-8974-46c2-89ae-ed05e1e241ef",
     "showTitle": true,
     "tableResultSettingsMap": {},
     "title": "Convertendo a coluna \"Watch_Time_Hours para decimal"
    }
   },
   "outputs": [],
   "source": [
    "netflix_users_df_silver = netflix_users_df_silver.withColumn(\"Watch_Time_Hours\", col(\"Watch_Time_Hours\").cast(\"decimal(10,2)\"))"
   ]
  },
  {
   "cell_type": "markdown",
   "metadata": {
    "application/vnd.databricks.v1+cell": {
     "cellMetadata": {},
     "inputWidgets": {},
     "nuid": "602c284f-31ca-4631-a32b-05d8e022bf14",
     "showTitle": false,
     "tableResultSettingsMap": {},
     "title": ""
    }
   },
   "source": [
    "Após as conversões, é importante fazer uma verificação da **qualidade dos dados** na tabela em questão, antes de seguir com a modelagem.\n",
    "Para isso, é importante avaliar se, agora, os tipos de dados estão de acordo com o esperado, avaliar a distribuição dos mesmos em função do contexto de negócio e se há itens nulos ou fora do esperado no banco de dados."
   ]
  },
  {
   "cell_type": "code",
   "execution_count": 0,
   "metadata": {
    "application/vnd.databricks.v1+cell": {
     "cellMetadata": {
      "byteLimit": 2048000,
      "rowLimit": 10000
     },
     "inputWidgets": {},
     "nuid": "d3c0dc3e-3807-4231-964c-f0e062120e9f",
     "showTitle": true,
     "tableResultSettingsMap": {},
     "title": "Avaliando as colunas e distribuições"
    }
   },
   "outputs": [
    {
     "output_type": "stream",
     "name": "stdout",
     "output_type": "stream",
     "text": [
      "+-------+-----------------+--------------+------------------+---------+-----------------+-----------------+--------------+\n|summary|          User_ID|          Name|               Age|  Country|Subscription_Type| Watch_Time_Hours|Favorite_Genre|\n+-------+-----------------+--------------+------------------+---------+-----------------+-----------------+--------------+\n|  count|            25000|         25000|             25000|    25000|            25000|            25000|         25000|\n|   mean|          12500.5|          null|          46.48288|     null|             null|       500.468858|          null|\n| stddev|7217.022700994273|          null|19.594861194941107|     null|             null|286.3818152485371|          null|\n|    min|                1|    Alex Brown|                13|Australia|            Basic|             0.12|        Action|\n|    25%|           6249.0|          null|                29|     null|             null|           256.28|          null|\n|    50%|          12499.0|          null|                46|     null|             null|           501.49|          null|\n|    75%|          18748.0|          null|                63|     null|             null|           745.66|          null|\n|    max|             9999|Sarah Williams|                80|      USA|         Standard|           999.99|        Sci-Fi|\n+-------+-----------------+--------------+------------------+---------+-----------------+-----------------+--------------+\n\n"
     ]
    }
   ],
   "source": [
    "netflix_users_df_silver.summary().show()"
   ]
  },
  {
   "cell_type": "markdown",
   "metadata": {
    "application/vnd.databricks.v1+cell": {
     "cellMetadata": {},
     "inputWidgets": {},
     "nuid": "3e9b4afa-8502-4261-8bb5-7d2ccfcba101",
     "showTitle": false,
     "tableResultSettingsMap": {},
     "title": ""
    }
   },
   "source": [
    "- A coluna `user_id` é um valor único que diferencia o usuário (seria nossa chave primária), como não tem duplicatas e não contém nulos, está dentro do esperado\n",
    "- Existem 25000 nomes na coluna `name` que variam de Alex Brown até Sarah Williams\n",
    "- Existem 25000 dados de idade no atributo `age` que variam de 13 a 80 anos, com média em 46,5 e desvio padrão em 19,59\n",
    "- Existem 25000 dados de países na coluna `Country`, 25000 dados de tipo de planos na coluna `Subscription_Type` e 25000 dados de genêro de filme na coluna `Favorite_Genre`\n",
    "- Exitem 25000 dados de tempo de visualização na coluna `Watch_Time_Hours` que variam de 0,12 a 999,99h com média em 500,47 e desvio padrão em 286,38"
   ]
  },
  {
   "cell_type": "code",
   "execution_count": 0,
   "metadata": {
    "application/vnd.databricks.v1+cell": {
     "cellMetadata": {
      "byteLimit": 2048000,
      "rowLimit": 10000
     },
     "inputWidgets": {},
     "nuid": "e0fcfd4c-a490-4f29-a312-0ca72b4ddbc6",
     "showTitle": true,
     "tableResultSettingsMap": {},
     "title": "Confirmação sobre itens nulos"
    }
   },
   "outputs": [
    {
     "output_type": "stream",
     "name": "stdout",
     "output_type": "stream",
     "text": [
      "+-------+----+---+-------+-----------------+----------------+--------------+----------+\n|User_ID|Name|Age|Country|Subscription_Type|Watch_Time_Hours|Favorite_Genre|Last_Login|\n+-------+----+---+-------+-----------------+----------------+--------------+----------+\n|      0|   0|  0|      0|                0|               0|             0|         0|\n+-------+----+---+-------+-----------------+----------------+--------------+----------+\n\n"
     ]
    }
   ],
   "source": [
    "from pyspark.sql.functions import col, count, when\n",
    "\n",
    "netflix_users_df_silver.select([count(when(col(c).isNull(), c)).alias(c) for c in netflix_users_df_silver.columns]).show()"
   ]
  },
  {
   "cell_type": "markdown",
   "metadata": {
    "application/vnd.databricks.v1+cell": {
     "cellMetadata": {},
     "inputWidgets": {},
     "nuid": "c8a9da70-060f-4c6c-951e-7d5dbca04eb5",
     "showTitle": false,
     "tableResultSettingsMap": {},
     "title": ""
    }
   },
   "source": [
    "Não existem itens nulos na tabela utilizada"
   ]
  },
  {
   "cell_type": "code",
   "execution_count": 0,
   "metadata": {
    "application/vnd.databricks.v1+cell": {
     "cellMetadata": {
      "byteLimit": 2048000,
      "rowLimit": 10000
     },
     "inputWidgets": {},
     "nuid": "13dcc7ee-573d-49a6-a31c-4b5a5d2c6f39",
     "showTitle": true,
     "tableResultSettingsMap": {},
     "title": "Criando tabela modelada com formatos corretos no stage silver"
    }
   },
   "outputs": [],
   "source": [
    "netflix_users_df_silver.write.mode(\"overwrite\").saveAsTable(\"silver.netflix_users\")"
   ]
  },
  {
   "cell_type": "code",
   "execution_count": 0,
   "metadata": {
    "application/vnd.databricks.v1+cell": {
     "cellMetadata": {
      "byteLimit": 2048000,
      "implicitDf": true,
      "rowLimit": 10000
     },
     "inputWidgets": {},
     "nuid": "65bdece8-7ef9-42d5-90c4-f5be3c5b3af9",
     "showTitle": true,
     "tableResultSettingsMap": {},
     "title": "Verificando o resultado"
    }
   },
   "outputs": [
    {
     "output_type": "display_data",
     "data": {
      "text/html": [
       "<style scoped>\n",
       "  .table-result-container {\n",
       "    max-height: 300px;\n",
       "    overflow: auto;\n",
       "  }\n",
       "  table, th, td {\n",
       "    border: 1px solid black;\n",
       "    border-collapse: collapse;\n",
       "  }\n",
       "  th, td {\n",
       "    padding: 5px;\n",
       "  }\n",
       "  th {\n",
       "    text-align: left;\n",
       "  }\n",
       "</style><div class='table-result-container'><table class='table-result'><thead style='background-color: white'><tr><th>User_ID</th><th>Name</th><th>Age</th><th>Country</th><th>Subscription_Type</th><th>Watch_Time_Hours</th><th>Favorite_Genre</th><th>Last_Login</th></tr></thead><tbody><tr><td>1</td><td>James Martinez</td><td>18</td><td>France</td><td>Premium</td><td>80.26</td><td>Drama</td><td>2024-05-12</td></tr><tr><td>2</td><td>John Miller</td><td>23</td><td>USA</td><td>Premium</td><td>321.75</td><td>Sci-Fi</td><td>2025-02-05</td></tr><tr><td>3</td><td>Emma Davis</td><td>60</td><td>UK</td><td>Basic</td><td>35.89</td><td>Comedy</td><td>2025-01-24</td></tr><tr><td>4</td><td>Emma Miller</td><td>44</td><td>USA</td><td>Premium</td><td>261.56</td><td>Documentary</td><td>2024-03-25</td></tr><tr><td>5</td><td>Jane Smith</td><td>68</td><td>USA</td><td>Standard</td><td>909.30</td><td>Drama</td><td>2025-01-14</td></tr><tr><td>6</td><td>David Johnson</td><td>21</td><td>USA</td><td>Standard</td><td>615.93</td><td>Romance</td><td>2025-02-03</td></tr><tr><td>7</td><td>John Hernandez</td><td>57</td><td>Canada</td><td>Standard</td><td>755.47</td><td>Romance</td><td>2025-01-05</td></tr><tr><td>8</td><td>Katie Hernandez</td><td>68</td><td>USA</td><td>Standard</td><td>145.23</td><td>Sci-Fi</td><td>2024-10-30</td></tr><tr><td>9</td><td>James Williams</td><td>39</td><td>UK</td><td>Basic</td><td>950.14</td><td>Action</td><td>2024-04-16</td></tr><tr><td>10</td><td>Alex Davis</td><td>55</td><td>Mexico</td><td>Standard</td><td>696.66</td><td>Horror</td><td>2024-07-03</td></tr></tbody></table></div>"
      ]
     },
     "metadata": {
      "application/vnd.databricks.v1+output": {
       "addedWidgets": {},
       "aggData": [],
       "aggError": "",
       "aggOverflow": false,
       "aggSchema": [],
       "aggSeriesLimitReached": false,
       "aggType": "",
       "arguments": {},
       "columnCustomDisplayInfos": {},
       "data": [
        [
         "1",
         "James Martinez",
         18,
         "France",
         "Premium",
         "80.26",
         "Drama",
         "2024-05-12"
        ],
        [
         "2",
         "John Miller",
         23,
         "USA",
         "Premium",
         "321.75",
         "Sci-Fi",
         "2025-02-05"
        ],
        [
         "3",
         "Emma Davis",
         60,
         "UK",
         "Basic",
         "35.89",
         "Comedy",
         "2025-01-24"
        ],
        [
         "4",
         "Emma Miller",
         44,
         "USA",
         "Premium",
         "261.56",
         "Documentary",
         "2024-03-25"
        ],
        [
         "5",
         "Jane Smith",
         68,
         "USA",
         "Standard",
         "909.30",
         "Drama",
         "2025-01-14"
        ],
        [
         "6",
         "David Johnson",
         21,
         "USA",
         "Standard",
         "615.93",
         "Romance",
         "2025-02-03"
        ],
        [
         "7",
         "John Hernandez",
         57,
         "Canada",
         "Standard",
         "755.47",
         "Romance",
         "2025-01-05"
        ],
        [
         "8",
         "Katie Hernandez",
         68,
         "USA",
         "Standard",
         "145.23",
         "Sci-Fi",
         "2024-10-30"
        ],
        [
         "9",
         "James Williams",
         39,
         "UK",
         "Basic",
         "950.14",
         "Action",
         "2024-04-16"
        ],
        [
         "10",
         "Alex Davis",
         55,
         "Mexico",
         "Standard",
         "696.66",
         "Horror",
         "2024-07-03"
        ]
       ],
       "datasetInfos": [],
       "dbfsResultPath": null,
       "isJsonSchema": true,
       "metadata": {},
       "overflow": false,
       "plotOptions": {
        "customPlotOptions": {},
        "displayType": "table",
        "pivotAggregation": null,
        "pivotColumns": null,
        "xColumns": null,
        "yColumns": null
       },
       "removedWidgets": [],
       "schema": [
        {
         "metadata": "{}",
         "name": "User_ID",
         "type": "\"string\""
        },
        {
         "metadata": "{}",
         "name": "Name",
         "type": "\"string\""
        },
        {
         "metadata": "{}",
         "name": "Age",
         "type": "\"integer\""
        },
        {
         "metadata": "{}",
         "name": "Country",
         "type": "\"string\""
        },
        {
         "metadata": "{}",
         "name": "Subscription_Type",
         "type": "\"string\""
        },
        {
         "metadata": "{}",
         "name": "Watch_Time_Hours",
         "type": "\"decimal(10,2)\""
        },
        {
         "metadata": "{}",
         "name": "Favorite_Genre",
         "type": "\"string\""
        },
        {
         "metadata": "{}",
         "name": "Last_Login",
         "type": "\"date\""
        }
       ],
       "type": "table"
      }
     },
     "output_type": "display_data"
    }
   ],
   "source": [
    "%sql SELECT * FROM silver.netflix_users LIMIT 10"
   ]
  },
  {
   "cell_type": "markdown",
   "metadata": {
    "application/vnd.databricks.v1+cell": {
     "cellMetadata": {},
     "inputWidgets": {},
     "nuid": "e2eaae49-fbf0-41ea-800e-da02f5a8def2",
     "showTitle": false,
     "tableResultSettingsMap": {},
     "title": ""
    }
   },
   "source": [
    "Na tabela netflix_users no stage silver, os dados estão no formato correto para serem utilizados nas análises pensadas.\n",
    "\n",
    "Entretanto, para algumas perguntas pensadas, ainda são necessários mais tratamentos. Esses serão avaliados nesta sessão e realizados na modelagem do stage silver para gold."
   ]
  },
  {
   "cell_type": "markdown",
   "metadata": {
    "application/vnd.databricks.v1+cell": {
     "cellMetadata": {},
     "inputWidgets": {},
     "nuid": "3024dee3-ba42-47a6-9b3f-e401d9387969",
     "showTitle": false,
     "tableResultSettingsMap": {},
     "title": ""
    }
   },
   "source": [
    "#### 1. Existe algum plano mais comum entre os usuários avaliados?"
   ]
  },
  {
   "cell_type": "code",
   "execution_count": 0,
   "metadata": {
    "application/vnd.databricks.v1+cell": {
     "cellMetadata": {
      "byteLimit": 2048000,
      "implicitDf": true,
      "rowLimit": 10000
     },
     "inputWidgets": {},
     "nuid": "c618300d-2c1b-40f8-808e-4294c464847d",
     "showTitle": true,
     "tableResultSettingsMap": {},
     "title": "Análise pergunta 1"
    }
   },
   "outputs": [
    {
     "output_type": "display_data",
     "data": {
      "text/html": [
       "<style scoped>\n",
       "  .table-result-container {\n",
       "    max-height: 300px;\n",
       "    overflow: auto;\n",
       "  }\n",
       "  table, th, td {\n",
       "    border: 1px solid black;\n",
       "    border-collapse: collapse;\n",
       "  }\n",
       "  th, td {\n",
       "    padding: 5px;\n",
       "  }\n",
       "  th {\n",
       "    text-align: left;\n",
       "  }\n",
       "</style><div class='table-result-container'><table class='table-result'><thead style='background-color: white'><tr><th>Subscription_Type</th><th>users</th></tr></thead><tbody><tr><td>Premium</td><td>8402</td></tr><tr><td>Basic</td><td>8356</td></tr><tr><td>Standard</td><td>8242</td></tr></tbody></table></div>"
      ]
     },
     "metadata": {
      "application/vnd.databricks.v1+output": {
       "addedWidgets": {},
       "aggData": [],
       "aggError": "",
       "aggOverflow": false,
       "aggSchema": [],
       "aggSeriesLimitReached": false,
       "aggType": "",
       "arguments": {},
       "columnCustomDisplayInfos": {},
       "data": [
        [
         "Premium",
         8402
        ],
        [
         "Basic",
         8356
        ],
        [
         "Standard",
         8242
        ]
       ],
       "datasetInfos": [],
       "dbfsResultPath": null,
       "isJsonSchema": true,
       "metadata": {},
       "overflow": false,
       "plotOptions": {
        "customPlotOptions": {},
        "displayType": "table",
        "pivotAggregation": null,
        "pivotColumns": null,
        "xColumns": null,
        "yColumns": null
       },
       "removedWidgets": [],
       "schema": [
        {
         "metadata": "{}",
         "name": "Subscription_Type",
         "type": "\"string\""
        },
        {
         "metadata": "{}",
         "name": "users",
         "type": "\"long\""
        }
       ],
       "type": "table"
      }
     },
     "output_type": "display_data"
    }
   ],
   "source": [
    "%sql SELECT Subscription_Type, COUNT (Name) AS users\n",
    "FROM silver.netflix_users\n",
    "GROUP BY Subscription_Type\n",
    "ORDER BY users DESC"
   ]
  },
  {
   "cell_type": "markdown",
   "metadata": {
    "application/vnd.databricks.v1+cell": {
     "cellMetadata": {},
     "inputWidgets": {},
     "nuid": "26b0153a-6c9a-4f1c-87b5-66f5edbcc250",
     "showTitle": false,
     "tableResultSettingsMap": {},
     "title": ""
    }
   },
   "source": [
    "Os tipos de plano são bem distribuídos entre os usuários avaliados.\n",
    "O plano mais presente é o Premium, porém com apenas 46 usuários de diferença para o segundo plano mais assinado que é o Basic"
   ]
  },
  {
   "cell_type": "markdown",
   "metadata": {
    "application/vnd.databricks.v1+cell": {
     "cellMetadata": {},
     "inputWidgets": {},
     "nuid": "74c4237b-2046-49bb-90dd-b08ec69ef4d4",
     "showTitle": false,
     "tableResultSettingsMap": {},
     "title": ""
    }
   },
   "source": [
    "#### 2. Existe algum país no _qual_ haja mais usuários?"
   ]
  },
  {
   "cell_type": "code",
   "execution_count": 0,
   "metadata": {
    "application/vnd.databricks.v1+cell": {
     "cellMetadata": {
      "byteLimit": 2048000,
      "implicitDf": true,
      "rowLimit": 10000
     },
     "inputWidgets": {},
     "nuid": "bc57dedb-b65c-48c4-9621-f225f20df689",
     "showTitle": true,
     "tableResultSettingsMap": {},
     "title": "Análise pergunta 2"
    }
   },
   "outputs": [
    {
     "output_type": "display_data",
     "data": {
      "text/html": [
       "<style scoped>\n",
       "  .table-result-container {\n",
       "    max-height: 300px;\n",
       "    overflow: auto;\n",
       "  }\n",
       "  table, th, td {\n",
       "    border: 1px solid black;\n",
       "    border-collapse: collapse;\n",
       "  }\n",
       "  th, td {\n",
       "    padding: 5px;\n",
       "  }\n",
       "  th {\n",
       "    text-align: left;\n",
       "  }\n",
       "</style><div class='table-result-container'><table class='table-result'><thead style='background-color: white'><tr><th>Country</th><th>users</th></tr></thead><tbody><tr><td>UK</td><td>2592</td></tr><tr><td>Germany</td><td>2547</td></tr><tr><td>India</td><td>2505</td></tr><tr><td>USA</td><td>2503</td></tr><tr><td>Brazil</td><td>2503</td></tr><tr><td>Mexico</td><td>2493</td></tr><tr><td>Canada</td><td>2490</td></tr><tr><td>France</td><td>2473</td></tr><tr><td>Japan</td><td>2457</td></tr><tr><td>Australia</td><td>2437</td></tr></tbody></table></div>"
      ]
     },
     "metadata": {
      "application/vnd.databricks.v1+output": {
       "addedWidgets": {},
       "aggData": [],
       "aggError": "",
       "aggOverflow": false,
       "aggSchema": [],
       "aggSeriesLimitReached": false,
       "aggType": "",
       "arguments": {},
       "columnCustomDisplayInfos": {},
       "data": [
        [
         "UK",
         2592
        ],
        [
         "Germany",
         2547
        ],
        [
         "India",
         2505
        ],
        [
         "USA",
         2503
        ],
        [
         "Brazil",
         2503
        ],
        [
         "Mexico",
         2493
        ],
        [
         "Canada",
         2490
        ],
        [
         "France",
         2473
        ],
        [
         "Japan",
         2457
        ],
        [
         "Australia",
         2437
        ]
       ],
       "datasetInfos": [],
       "dbfsResultPath": null,
       "isJsonSchema": true,
       "metadata": {},
       "overflow": false,
       "plotOptions": {
        "customPlotOptions": {},
        "displayType": "table",
        "pivotAggregation": null,
        "pivotColumns": null,
        "xColumns": null,
        "yColumns": null
       },
       "removedWidgets": [],
       "schema": [
        {
         "metadata": "{}",
         "name": "Country",
         "type": "\"string\""
        },
        {
         "metadata": "{}",
         "name": "users",
         "type": "\"long\""
        }
       ],
       "type": "table"
      }
     },
     "output_type": "display_data"
    }
   ],
   "source": [
    "%sql SELECT Country, COUNT (Name) AS users\n",
    "FROM silver.netflix_users\n",
    "GROUP BY Country\n",
    "ORDER BY users DESC"
   ]
  },
  {
   "cell_type": "markdown",
   "metadata": {
    "application/vnd.databricks.v1+cell": {
     "cellMetadata": {},
     "inputWidgets": {},
     "nuid": "8de978fe-8ed9-44d7-8fe4-75ec0a01645b",
     "showTitle": false,
     "tableResultSettingsMap": {},
     "title": ""
    }
   },
   "source": [
    "Os usuários também são bem distribuídos entre os países em questão, sendo UK o mais presente, seguido de Alemanha, Índia e USA."
   ]
  },
  {
   "cell_type": "markdown",
   "metadata": {
    "application/vnd.databricks.v1+cell": {
     "cellMetadata": {},
     "inputWidgets": {},
     "nuid": "c8a2f13e-3bc3-474c-bce1-d8ded64d7e24",
     "showTitle": false,
     "tableResultSettingsMap": {},
     "title": ""
    }
   },
   "source": [
    "Para responder as perguntas de número 3 a 7 são necessários outros tratamentos dos dados.\n",
    "\n",
    "Começamos com a verificação da distribuição de idades para criação de faixas etárias"
   ]
  },
  {
   "cell_type": "code",
   "execution_count": 0,
   "metadata": {
    "application/vnd.databricks.v1+cell": {
     "cellMetadata": {
      "byteLimit": 2048000,
      "implicitDf": true,
      "rowLimit": 10000
     },
     "inputWidgets": {},
     "nuid": "0b6afb67-aba5-4d72-ade2-ec3114357dfe",
     "showTitle": true,
     "tableResultSettingsMap": {},
     "title": "Verificando distribuição de idades para criar faixa etária"
    }
   },
   "outputs": [
    {
     "output_type": "display_data",
     "data": {
      "text/html": [
       "<style scoped>\n",
       "  .table-result-container {\n",
       "    max-height: 300px;\n",
       "    overflow: auto;\n",
       "  }\n",
       "  table, th, td {\n",
       "    border: 1px solid black;\n",
       "    border-collapse: collapse;\n",
       "  }\n",
       "  th, td {\n",
       "    padding: 5px;\n",
       "  }\n",
       "  th {\n",
       "    text-align: left;\n",
       "  }\n",
       "</style><div class='table-result-container'><table class='table-result'><thead style='background-color: white'><tr><th>Age</th><th>users</th></tr></thead><tbody><tr><td>13</td><td>339</td></tr><tr><td>14</td><td>374</td></tr><tr><td>15</td><td>359</td></tr><tr><td>16</td><td>373</td></tr><tr><td>17</td><td>368</td></tr><tr><td>18</td><td>375</td></tr><tr><td>19</td><td>357</td></tr><tr><td>20</td><td>380</td></tr><tr><td>21</td><td>354</td></tr><tr><td>22</td><td>368</td></tr><tr><td>23</td><td>371</td></tr><tr><td>24</td><td>372</td></tr><tr><td>25</td><td>374</td></tr><tr><td>26</td><td>407</td></tr><tr><td>27</td><td>368</td></tr><tr><td>28</td><td>378</td></tr><tr><td>29</td><td>376</td></tr><tr><td>30</td><td>372</td></tr><tr><td>31</td><td>376</td></tr><tr><td>32</td><td>341</td></tr><tr><td>33</td><td>359</td></tr><tr><td>34</td><td>344</td></tr><tr><td>35</td><td>356</td></tr><tr><td>36</td><td>326</td></tr><tr><td>37</td><td>356</td></tr><tr><td>38</td><td>366</td></tr><tr><td>39</td><td>385</td></tr><tr><td>40</td><td>406</td></tr><tr><td>41</td><td>353</td></tr><tr><td>42</td><td>383</td></tr><tr><td>43</td><td>353</td></tr><tr><td>44</td><td>371</td></tr><tr><td>45</td><td>405</td></tr><tr><td>46</td><td>386</td></tr><tr><td>47</td><td>386</td></tr><tr><td>48</td><td>376</td></tr><tr><td>49</td><td>370</td></tr><tr><td>50</td><td>360</td></tr><tr><td>51</td><td>338</td></tr><tr><td>52</td><td>362</td></tr><tr><td>53</td><td>349</td></tr><tr><td>54</td><td>345</td></tr><tr><td>55</td><td>377</td></tr><tr><td>56</td><td>381</td></tr><tr><td>57</td><td>404</td></tr><tr><td>58</td><td>366</td></tr><tr><td>59</td><td>361</td></tr><tr><td>60</td><td>370</td></tr><tr><td>61</td><td>377</td></tr><tr><td>62</td><td>400</td></tr><tr><td>63</td><td>372</td></tr><tr><td>64</td><td>353</td></tr><tr><td>65</td><td>349</td></tr><tr><td>66</td><td>361</td></tr><tr><td>67</td><td>389</td></tr><tr><td>68</td><td>375</td></tr><tr><td>69</td><td>351</td></tr><tr><td>70</td><td>361</td></tr><tr><td>71</td><td>367</td></tr><tr><td>72</td><td>374</td></tr><tr><td>73</td><td>334</td></tr><tr><td>74</td><td>330</td></tr><tr><td>75</td><td>365</td></tr><tr><td>76</td><td>354</td></tr><tr><td>77</td><td>378</td></tr><tr><td>78</td><td>371</td></tr><tr><td>79</td><td>378</td></tr><tr><td>80</td><td>385</td></tr></tbody></table></div>"
      ]
     },
     "metadata": {
      "application/vnd.databricks.v1+output": {
       "addedWidgets": {},
       "aggData": [],
       "aggError": "",
       "aggOverflow": false,
       "aggSchema": [],
       "aggSeriesLimitReached": false,
       "aggType": "",
       "arguments": {},
       "columnCustomDisplayInfos": {},
       "data": [
        [
         13,
         339
        ],
        [
         14,
         374
        ],
        [
         15,
         359
        ],
        [
         16,
         373
        ],
        [
         17,
         368
        ],
        [
         18,
         375
        ],
        [
         19,
         357
        ],
        [
         20,
         380
        ],
        [
         21,
         354
        ],
        [
         22,
         368
        ],
        [
         23,
         371
        ],
        [
         24,
         372
        ],
        [
         25,
         374
        ],
        [
         26,
         407
        ],
        [
         27,
         368
        ],
        [
         28,
         378
        ],
        [
         29,
         376
        ],
        [
         30,
         372
        ],
        [
         31,
         376
        ],
        [
         32,
         341
        ],
        [
         33,
         359
        ],
        [
         34,
         344
        ],
        [
         35,
         356
        ],
        [
         36,
         326
        ],
        [
         37,
         356
        ],
        [
         38,
         366
        ],
        [
         39,
         385
        ],
        [
         40,
         406
        ],
        [
         41,
         353
        ],
        [
         42,
         383
        ],
        [
         43,
         353
        ],
        [
         44,
         371
        ],
        [
         45,
         405
        ],
        [
         46,
         386
        ],
        [
         47,
         386
        ],
        [
         48,
         376
        ],
        [
         49,
         370
        ],
        [
         50,
         360
        ],
        [
         51,
         338
        ],
        [
         52,
         362
        ],
        [
         53,
         349
        ],
        [
         54,
         345
        ],
        [
         55,
         377
        ],
        [
         56,
         381
        ],
        [
         57,
         404
        ],
        [
         58,
         366
        ],
        [
         59,
         361
        ],
        [
         60,
         370
        ],
        [
         61,
         377
        ],
        [
         62,
         400
        ],
        [
         63,
         372
        ],
        [
         64,
         353
        ],
        [
         65,
         349
        ],
        [
         66,
         361
        ],
        [
         67,
         389
        ],
        [
         68,
         375
        ],
        [
         69,
         351
        ],
        [
         70,
         361
        ],
        [
         71,
         367
        ],
        [
         72,
         374
        ],
        [
         73,
         334
        ],
        [
         74,
         330
        ],
        [
         75,
         365
        ],
        [
         76,
         354
        ],
        [
         77,
         378
        ],
        [
         78,
         371
        ],
        [
         79,
         378
        ],
        [
         80,
         385
        ]
       ],
       "datasetInfos": [],
       "dbfsResultPath": null,
       "isJsonSchema": true,
       "metadata": {},
       "overflow": false,
       "plotOptions": {
        "customPlotOptions": {},
        "displayType": "table",
        "pivotAggregation": null,
        "pivotColumns": null,
        "xColumns": null,
        "yColumns": null
       },
       "removedWidgets": [],
       "schema": [
        {
         "metadata": "{}",
         "name": "Age",
         "type": "\"integer\""
        },
        {
         "metadata": "{}",
         "name": "users",
         "type": "\"long\""
        }
       ],
       "type": "table"
      }
     },
     "output_type": "display_data"
    }
   ],
   "source": [
    "%sql SELECT Age, COUNT (Name) AS users\n",
    "FROM silver.netflix_users\n",
    "GROUP BY Age\n",
    "ORDER BY Age"
   ]
  },
  {
   "cell_type": "markdown",
   "metadata": {
    "application/vnd.databricks.v1+cell": {
     "cellMetadata": {},
     "inputWidgets": {},
     "nuid": "04677d2b-5000-4acb-bc05-68abd53ae741",
     "showTitle": false,
     "tableResultSettingsMap": {},
     "title": ""
    }
   },
   "source": [
    "As idades são bem distribuidas desde 13 anos até 80 anos\n",
    "\n",
    "Em seguida, verifica-se a última data presente na tabela para criar uma coluna que faça a diferença entre o último login e o último dia avaliado, criando um tempo desde o último login"
   ]
  },
  {
   "cell_type": "code",
   "execution_count": 0,
   "metadata": {
    "application/vnd.databricks.v1+cell": {
     "cellMetadata": {
      "byteLimit": 2048000,
      "implicitDf": true,
      "rowLimit": 10000
     },
     "inputWidgets": {},
     "nuid": "81450af0-3ac1-4d5f-b7f8-ea106dc30639",
     "showTitle": true,
     "tableResultSettingsMap": {},
     "title": "Verificação da última data de login"
    }
   },
   "outputs": [
    {
     "output_type": "display_data",
     "data": {
      "text/html": [
       "<style scoped>\n",
       "  .table-result-container {\n",
       "    max-height: 300px;\n",
       "    overflow: auto;\n",
       "  }\n",
       "  table, th, td {\n",
       "    border: 1px solid black;\n",
       "    border-collapse: collapse;\n",
       "  }\n",
       "  th, td {\n",
       "    padding: 5px;\n",
       "  }\n",
       "  th {\n",
       "    text-align: left;\n",
       "  }\n",
       "</style><div class='table-result-container'><table class='table-result'><thead style='background-color: white'><tr><th>max(Last_login)</th></tr></thead><tbody><tr><td>2025-03-08</td></tr></tbody></table></div>"
      ]
     },
     "metadata": {
      "application/vnd.databricks.v1+output": {
       "addedWidgets": {},
       "aggData": [],
       "aggError": "",
       "aggOverflow": false,
       "aggSchema": [],
       "aggSeriesLimitReached": false,
       "aggType": "",
       "arguments": {},
       "columnCustomDisplayInfos": {},
       "data": [
        [
         "2025-03-08"
        ]
       ],
       "datasetInfos": [],
       "dbfsResultPath": null,
       "isJsonSchema": true,
       "metadata": {},
       "overflow": false,
       "plotOptions": {
        "customPlotOptions": {},
        "displayType": "table",
        "pivotAggregation": null,
        "pivotColumns": null,
        "xColumns": null,
        "yColumns": null
       },
       "removedWidgets": [],
       "schema": [
        {
         "metadata": "{\"__autoGeneratedAlias\":\"true\"}",
         "name": "max(Last_login)",
         "type": "\"date\""
        }
       ],
       "type": "table"
      }
     },
     "output_type": "display_data"
    }
   ],
   "source": [
    "%sql SELECT MAX(Last_login) \n",
    "FROM silver.netflix_users"
   ]
  },
  {
   "cell_type": "markdown",
   "metadata": {
    "application/vnd.databricks.v1+cell": {
     "cellMetadata": {},
     "inputWidgets": {},
     "nuid": "bbb92b7e-ae8f-498b-af2f-09b77323efd8",
     "showTitle": false,
     "tableResultSettingsMap": {},
     "title": ""
    }
   },
   "source": [
    "A última data de login foi no dia 08-03-2025\n",
    "\n",
    "Com essas informações, faremos a consulta para criar uma coluna denominada `Not_Logged_Days` que faz a diferença entre o último dia avaliado e o último dia de login com o objetivo de entender à quantos dias o usuário não acessa.\n",
    "\n",
    "Nessa consulta, também criamos uma coluna `Age_Groups` onde separamos as faixas etárias a serem avaliadas."
   ]
  },
  {
   "cell_type": "code",
   "execution_count": 0,
   "metadata": {
    "application/vnd.databricks.v1+cell": {
     "cellMetadata": {
      "byteLimit": 2048000,
      "implicitDf": true,
      "rowLimit": 10000
     },
     "inputWidgets": {},
     "nuid": "b297f6b3-8c8f-4436-9922-b222266e3be4",
     "showTitle": true,
     "tableResultSettingsMap": {},
     "title": "Verificando consulta com novas colunas"
    }
   },
   "outputs": [
    {
     "output_type": "display_data",
     "data": {
      "text/html": [
       "<style scoped>\n",
       "  .table-result-container {\n",
       "    max-height: 300px;\n",
       "    overflow: auto;\n",
       "  }\n",
       "  table, th, td {\n",
       "    border: 1px solid black;\n",
       "    border-collapse: collapse;\n",
       "  }\n",
       "  th, td {\n",
       "    padding: 5px;\n",
       "  }\n",
       "  th {\n",
       "    text-align: left;\n",
       "  }\n",
       "</style><div class='table-result-container'><table class='table-result'><thead style='background-color: white'><tr><th>User_ID</th><th>Name</th><th>Age</th><th>Country</th><th>Subscription_Type</th><th>Watch_Time_Hours</th><th>Favorite_Genre</th><th>Last_Login</th><th>Not_Logged_Days</th><th>Age_Groups</th></tr></thead><tbody><tr><td>1</td><td>James Martinez</td><td>18</td><td>France</td><td>Premium</td><td>80.26</td><td>Drama</td><td>2024-05-12</td><td>300</td><td>Young-Adult</td></tr><tr><td>2</td><td>John Miller</td><td>23</td><td>USA</td><td>Premium</td><td>321.75</td><td>Sci-Fi</td><td>2025-02-05</td><td>31</td><td>Young-Adult</td></tr><tr><td>3</td><td>Emma Davis</td><td>60</td><td>UK</td><td>Basic</td><td>35.89</td><td>Comedy</td><td>2025-01-24</td><td>43</td><td>Middle-Aged</td></tr><tr><td>4</td><td>Emma Miller</td><td>44</td><td>USA</td><td>Premium</td><td>261.56</td><td>Documentary</td><td>2024-03-25</td><td>348</td><td>Middle-Aged</td></tr><tr><td>5</td><td>Jane Smith</td><td>68</td><td>USA</td><td>Standard</td><td>909.30</td><td>Drama</td><td>2025-01-14</td><td>53</td><td>Senior</td></tr><tr><td>6</td><td>David Johnson</td><td>21</td><td>USA</td><td>Standard</td><td>615.93</td><td>Romance</td><td>2025-02-03</td><td>33</td><td>Young-Adult</td></tr><tr><td>7</td><td>John Hernandez</td><td>57</td><td>Canada</td><td>Standard</td><td>755.47</td><td>Romance</td><td>2025-01-05</td><td>62</td><td>Middle-Aged</td></tr><tr><td>8</td><td>Katie Hernandez</td><td>68</td><td>USA</td><td>Standard</td><td>145.23</td><td>Sci-Fi</td><td>2024-10-30</td><td>129</td><td>Senior</td></tr><tr><td>9</td><td>James Williams</td><td>39</td><td>UK</td><td>Basic</td><td>950.14</td><td>Action</td><td>2024-04-16</td><td>326</td><td>Adult</td></tr><tr><td>10</td><td>Alex Davis</td><td>55</td><td>Mexico</td><td>Standard</td><td>696.66</td><td>Horror</td><td>2024-07-03</td><td>248</td><td>Middle-Aged</td></tr></tbody></table></div>"
      ]
     },
     "metadata": {
      "application/vnd.databricks.v1+output": {
       "addedWidgets": {},
       "aggData": [],
       "aggError": "",
       "aggOverflow": false,
       "aggSchema": [],
       "aggSeriesLimitReached": false,
       "aggType": "",
       "arguments": {},
       "columnCustomDisplayInfos": {},
       "data": [
        [
         "1",
         "James Martinez",
         18,
         "France",
         "Premium",
         "80.26",
         "Drama",
         "2024-05-12",
         300,
         "Young-Adult"
        ],
        [
         "2",
         "John Miller",
         23,
         "USA",
         "Premium",
         "321.75",
         "Sci-Fi",
         "2025-02-05",
         31,
         "Young-Adult"
        ],
        [
         "3",
         "Emma Davis",
         60,
         "UK",
         "Basic",
         "35.89",
         "Comedy",
         "2025-01-24",
         43,
         "Middle-Aged"
        ],
        [
         "4",
         "Emma Miller",
         44,
         "USA",
         "Premium",
         "261.56",
         "Documentary",
         "2024-03-25",
         348,
         "Middle-Aged"
        ],
        [
         "5",
         "Jane Smith",
         68,
         "USA",
         "Standard",
         "909.30",
         "Drama",
         "2025-01-14",
         53,
         "Senior"
        ],
        [
         "6",
         "David Johnson",
         21,
         "USA",
         "Standard",
         "615.93",
         "Romance",
         "2025-02-03",
         33,
         "Young-Adult"
        ],
        [
         "7",
         "John Hernandez",
         57,
         "Canada",
         "Standard",
         "755.47",
         "Romance",
         "2025-01-05",
         62,
         "Middle-Aged"
        ],
        [
         "8",
         "Katie Hernandez",
         68,
         "USA",
         "Standard",
         "145.23",
         "Sci-Fi",
         "2024-10-30",
         129,
         "Senior"
        ],
        [
         "9",
         "James Williams",
         39,
         "UK",
         "Basic",
         "950.14",
         "Action",
         "2024-04-16",
         326,
         "Adult"
        ],
        [
         "10",
         "Alex Davis",
         55,
         "Mexico",
         "Standard",
         "696.66",
         "Horror",
         "2024-07-03",
         248,
         "Middle-Aged"
        ]
       ],
       "datasetInfos": [],
       "dbfsResultPath": null,
       "isJsonSchema": true,
       "metadata": {},
       "overflow": false,
       "plotOptions": {
        "customPlotOptions": {},
        "displayType": "table",
        "pivotAggregation": null,
        "pivotColumns": null,
        "xColumns": null,
        "yColumns": null
       },
       "removedWidgets": [],
       "schema": [
        {
         "metadata": "{}",
         "name": "User_ID",
         "type": "\"string\""
        },
        {
         "metadata": "{}",
         "name": "Name",
         "type": "\"string\""
        },
        {
         "metadata": "{}",
         "name": "Age",
         "type": "\"integer\""
        },
        {
         "metadata": "{}",
         "name": "Country",
         "type": "\"string\""
        },
        {
         "metadata": "{}",
         "name": "Subscription_Type",
         "type": "\"string\""
        },
        {
         "metadata": "{}",
         "name": "Watch_Time_Hours",
         "type": "\"decimal(10,2)\""
        },
        {
         "metadata": "{}",
         "name": "Favorite_Genre",
         "type": "\"string\""
        },
        {
         "metadata": "{}",
         "name": "Last_Login",
         "type": "\"date\""
        },
        {
         "metadata": "{}",
         "name": "Not_Logged_Days",
         "type": "\"integer\""
        },
        {
         "metadata": "{}",
         "name": "Age_Groups",
         "type": "\"string\""
        }
       ],
       "type": "table"
      }
     },
     "output_type": "display_data"
    }
   ],
   "source": [
    "%sql SELECT *,\n",
    "DATEDIFF('2025-03-08', Last_Login) as Not_Logged_Days,\n",
    "CASE \n",
    "  WHEN Age < 18 THEN 'Teenager'\n",
    "  WHEN Age >= 18 and Age <= 28 THEN 'Young-Adult'\n",
    "  WHEN Age > 28 and Age <= 39 THEN 'Adult'\n",
    "  WHEN Age > 39 and Age <= 64 THEN 'Middle-Aged'\n",
    "  WHEN Age > 64 THEN 'Senior'\n",
    "END AS Age_Groups\n",
    "FROM silver.netflix_users\n",
    "LIMIT 10"
   ]
  },
  {
   "cell_type": "markdown",
   "metadata": {
    "application/vnd.databricks.v1+cell": {
     "cellMetadata": {},
     "inputWidgets": {},
     "nuid": "2d4ca1a4-06ed-4383-adc1-35bc1619423f",
     "showTitle": false,
     "tableResultSettingsMap": {},
     "title": ""
    }
   },
   "source": [
    "Para separação entre grupos separando os usuários por masculino e feminino, será feito uma tentativa de avaliar o primeiro nome e verificar se o mesmo é masculino ou feminino."
   ]
  },
  {
   "cell_type": "code",
   "execution_count": 0,
   "metadata": {
    "application/vnd.databricks.v1+cell": {
     "cellMetadata": {
      "byteLimit": 2048000,
      "implicitDf": true,
      "rowLimit": 10000
     },
     "inputWidgets": {},
     "nuid": "d62190e0-b075-4194-af0e-52e06d4490fe",
     "showTitle": false,
     "tableResultSettingsMap": {},
     "title": ""
    }
   },
   "outputs": [
    {
     "output_type": "display_data",
     "data": {
      "text/html": [
       "<style scoped>\n",
       "  .table-result-container {\n",
       "    max-height: 300px;\n",
       "    overflow: auto;\n",
       "  }\n",
       "  table, th, td {\n",
       "    border: 1px solid black;\n",
       "    border-collapse: collapse;\n",
       "  }\n",
       "  th, td {\n",
       "    padding: 5px;\n",
       "  }\n",
       "  th {\n",
       "    text-align: left;\n",
       "  }\n",
       "</style><div class='table-result-container'><table class='table-result'><thead style='background-color: white'><tr><th>Fist_name</th></tr></thead><tbody><tr><td>James</td></tr><tr><td>Chris</td></tr><tr><td>Katie</td></tr><tr><td>Michael</td></tr><tr><td>Sarah</td></tr><tr><td>Alex</td></tr><tr><td>John</td></tr><tr><td>Emma</td></tr><tr><td>Jane</td></tr><tr><td>David</td></tr></tbody></table></div>"
      ]
     },
     "metadata": {
      "application/vnd.databricks.v1+output": {
       "addedWidgets": {},
       "aggData": [],
       "aggError": "",
       "aggOverflow": false,
       "aggSchema": [],
       "aggSeriesLimitReached": false,
       "aggType": "",
       "arguments": {},
       "columnCustomDisplayInfos": {},
       "data": [
        [
         "James"
        ],
        [
         "Chris"
        ],
        [
         "Katie"
        ],
        [
         "Michael"
        ],
        [
         "Sarah"
        ],
        [
         "Alex"
        ],
        [
         "John"
        ],
        [
         "Emma"
        ],
        [
         "Jane"
        ],
        [
         "David"
        ]
       ],
       "datasetInfos": [],
       "dbfsResultPath": null,
       "isJsonSchema": true,
       "metadata": {},
       "overflow": false,
       "plotOptions": {
        "customPlotOptions": {},
        "displayType": "table",
        "pivotAggregation": null,
        "pivotColumns": null,
        "xColumns": null,
        "yColumns": null
       },
       "removedWidgets": [],
       "schema": [
        {
         "metadata": "{}",
         "name": "Fist_name",
         "type": "\"string\""
        }
       ],
       "type": "table"
      }
     },
     "output_type": "display_data"
    }
   ],
   "source": [
    "%sql WITH names AS (\n",
    "  SELECT \n",
    "    SPLIT_PART(Name, ' ', 1) AS Fist_name,\n",
    "    SPLIT_PART(Name, ' ', 2) AS Last_name\n",
    "  FROM silver.netflix_users\n",
    ")\n",
    "\n",
    "SELECT DISTINCT Fist_name FROM names;"
   ]
  },
  {
   "cell_type": "markdown",
   "metadata": {
    "application/vnd.databricks.v1+cell": {
     "cellMetadata": {},
     "inputWidgets": {},
     "nuid": "f847f6fc-dab6-4064-9d4d-40914289aa71",
     "showTitle": false,
     "tableResultSettingsMap": {},
     "title": ""
    }
   },
   "source": [
    "Como existem apenas 10 nomes distintos, é possível fazer a separação atráves de grupos criados manualmente. Para tanto, partiremos da premissa que os nomes: 'James', 'Chris', 'Michael', 'John', 'David' são masculinos e os nomes 'Katie', 'Sarah', 'Alex', 'Emma', 'Jane' são femininos."
   ]
  },
  {
   "cell_type": "code",
   "execution_count": 0,
   "metadata": {
    "application/vnd.databricks.v1+cell": {
     "cellMetadata": {
      "byteLimit": 2048000,
      "implicitDf": true,
      "rowLimit": 10000
     },
     "inputWidgets": {},
     "nuid": "82a0d1f1-5fa0-40a3-b03f-ba37efb9e19a",
     "showTitle": true,
     "tableResultSettingsMap": {},
     "title": "testando nova consulta"
    }
   },
   "outputs": [
    {
     "output_type": "display_data",
     "data": {
      "text/html": [
       "<style scoped>\n",
       "  .table-result-container {\n",
       "    max-height: 300px;\n",
       "    overflow: auto;\n",
       "  }\n",
       "  table, th, td {\n",
       "    border: 1px solid black;\n",
       "    border-collapse: collapse;\n",
       "  }\n",
       "  th, td {\n",
       "    padding: 5px;\n",
       "  }\n",
       "  th {\n",
       "    text-align: left;\n",
       "  }\n",
       "</style><div class='table-result-container'><table class='table-result'><thead style='background-color: white'><tr><th>User_ID</th><th>Name</th><th>Age</th><th>Country</th><th>Subscription_Type</th><th>Watch_Time_Hours</th><th>Favorite_Genre</th><th>Last_Login</th><th>Not_Logged_Days</th><th>Age_Groups</th><th>Gender</th></tr></thead><tbody><tr><td>1</td><td>James Martinez</td><td>18</td><td>France</td><td>Premium</td><td>80.26</td><td>Drama</td><td>2024-05-12</td><td>300</td><td>Young-Adult</td><td>Male</td></tr><tr><td>2</td><td>John Miller</td><td>23</td><td>USA</td><td>Premium</td><td>321.75</td><td>Sci-Fi</td><td>2025-02-05</td><td>31</td><td>Young-Adult</td><td>Male</td></tr><tr><td>3</td><td>Emma Davis</td><td>60</td><td>UK</td><td>Basic</td><td>35.89</td><td>Comedy</td><td>2025-01-24</td><td>43</td><td>Middle-Aged</td><td>Female</td></tr><tr><td>4</td><td>Emma Miller</td><td>44</td><td>USA</td><td>Premium</td><td>261.56</td><td>Documentary</td><td>2024-03-25</td><td>348</td><td>Middle-Aged</td><td>Female</td></tr><tr><td>5</td><td>Jane Smith</td><td>68</td><td>USA</td><td>Standard</td><td>909.30</td><td>Drama</td><td>2025-01-14</td><td>53</td><td>Senior</td><td>Female</td></tr><tr><td>6</td><td>David Johnson</td><td>21</td><td>USA</td><td>Standard</td><td>615.93</td><td>Romance</td><td>2025-02-03</td><td>33</td><td>Young-Adult</td><td>Male</td></tr><tr><td>7</td><td>John Hernandez</td><td>57</td><td>Canada</td><td>Standard</td><td>755.47</td><td>Romance</td><td>2025-01-05</td><td>62</td><td>Middle-Aged</td><td>Male</td></tr><tr><td>8</td><td>Katie Hernandez</td><td>68</td><td>USA</td><td>Standard</td><td>145.23</td><td>Sci-Fi</td><td>2024-10-30</td><td>129</td><td>Senior</td><td>Female</td></tr><tr><td>9</td><td>James Williams</td><td>39</td><td>UK</td><td>Basic</td><td>950.14</td><td>Action</td><td>2024-04-16</td><td>326</td><td>Adult</td><td>Male</td></tr><tr><td>10</td><td>Alex Davis</td><td>55</td><td>Mexico</td><td>Standard</td><td>696.66</td><td>Horror</td><td>2024-07-03</td><td>248</td><td>Middle-Aged</td><td>Female</td></tr></tbody></table></div>"
      ]
     },
     "metadata": {
      "application/vnd.databricks.v1+output": {
       "addedWidgets": {},
       "aggData": [],
       "aggError": "",
       "aggOverflow": false,
       "aggSchema": [],
       "aggSeriesLimitReached": false,
       "aggType": "",
       "arguments": {},
       "columnCustomDisplayInfos": {},
       "data": [
        [
         "1",
         "James Martinez",
         18,
         "France",
         "Premium",
         "80.26",
         "Drama",
         "2024-05-12",
         300,
         "Young-Adult",
         "Male"
        ],
        [
         "2",
         "John Miller",
         23,
         "USA",
         "Premium",
         "321.75",
         "Sci-Fi",
         "2025-02-05",
         31,
         "Young-Adult",
         "Male"
        ],
        [
         "3",
         "Emma Davis",
         60,
         "UK",
         "Basic",
         "35.89",
         "Comedy",
         "2025-01-24",
         43,
         "Middle-Aged",
         "Female"
        ],
        [
         "4",
         "Emma Miller",
         44,
         "USA",
         "Premium",
         "261.56",
         "Documentary",
         "2024-03-25",
         348,
         "Middle-Aged",
         "Female"
        ],
        [
         "5",
         "Jane Smith",
         68,
         "USA",
         "Standard",
         "909.30",
         "Drama",
         "2025-01-14",
         53,
         "Senior",
         "Female"
        ],
        [
         "6",
         "David Johnson",
         21,
         "USA",
         "Standard",
         "615.93",
         "Romance",
         "2025-02-03",
         33,
         "Young-Adult",
         "Male"
        ],
        [
         "7",
         "John Hernandez",
         57,
         "Canada",
         "Standard",
         "755.47",
         "Romance",
         "2025-01-05",
         62,
         "Middle-Aged",
         "Male"
        ],
        [
         "8",
         "Katie Hernandez",
         68,
         "USA",
         "Standard",
         "145.23",
         "Sci-Fi",
         "2024-10-30",
         129,
         "Senior",
         "Female"
        ],
        [
         "9",
         "James Williams",
         39,
         "UK",
         "Basic",
         "950.14",
         "Action",
         "2024-04-16",
         326,
         "Adult",
         "Male"
        ],
        [
         "10",
         "Alex Davis",
         55,
         "Mexico",
         "Standard",
         "696.66",
         "Horror",
         "2024-07-03",
         248,
         "Middle-Aged",
         "Female"
        ]
       ],
       "datasetInfos": [],
       "dbfsResultPath": null,
       "isJsonSchema": true,
       "metadata": {},
       "overflow": false,
       "plotOptions": {
        "customPlotOptions": {},
        "displayType": "table",
        "pivotAggregation": null,
        "pivotColumns": null,
        "xColumns": null,
        "yColumns": null
       },
       "removedWidgets": [],
       "schema": [
        {
         "metadata": "{}",
         "name": "User_ID",
         "type": "\"string\""
        },
        {
         "metadata": "{}",
         "name": "Name",
         "type": "\"string\""
        },
        {
         "metadata": "{}",
         "name": "Age",
         "type": "\"integer\""
        },
        {
         "metadata": "{}",
         "name": "Country",
         "type": "\"string\""
        },
        {
         "metadata": "{}",
         "name": "Subscription_Type",
         "type": "\"string\""
        },
        {
         "metadata": "{}",
         "name": "Watch_Time_Hours",
         "type": "\"decimal(10,2)\""
        },
        {
         "metadata": "{}",
         "name": "Favorite_Genre",
         "type": "\"string\""
        },
        {
         "metadata": "{}",
         "name": "Last_Login",
         "type": "\"date\""
        },
        {
         "metadata": "{}",
         "name": "Not_Logged_Days",
         "type": "\"integer\""
        },
        {
         "metadata": "{}",
         "name": "Age_Groups",
         "type": "\"string\""
        },
        {
         "metadata": "{}",
         "name": "Gender",
         "type": "\"string\""
        }
       ],
       "type": "table"
      }
     },
     "output_type": "display_data"
    }
   ],
   "source": [
    "%sql SELECT *,\n",
    "DATEDIFF('2025-03-08', Last_Login) as Not_Logged_Days,\n",
    "CASE \n",
    "  WHEN Age < 18 THEN 'Teenager'\n",
    "  WHEN Age >= 18 and Age <= 28 THEN 'Young-Adult'\n",
    "  WHEN Age > 28 and Age <= 39 THEN 'Adult'\n",
    "  WHEN Age > 39 and Age <= 64 THEN 'Middle-Aged'\n",
    "  WHEN Age > 64 THEN 'Senior'\n",
    "END AS Age_Groups,\n",
    "CASE\n",
    "  WHEN SPLIT_PART(Name, ' ', 1) in ('James', 'Chris', 'Michael', 'John', 'David') THEN 'Male'\n",
    "  WHEN SPLIT_PART(Name, ' ', 1) in ('Katie', 'Sarah', 'Alex', 'Emma', 'Jane') THEN 'Female'\n",
    "END AS Gender\n",
    "\n",
    "FROM silver.netflix_users\n",
    "LIMIT 10"
   ]
  },
  {
   "cell_type": "markdown",
   "metadata": {
    "application/vnd.databricks.v1+cell": {
     "cellMetadata": {},
     "inputWidgets": {},
     "nuid": "66c847f1-9022-4388-a81c-a2e5a6dc23b5",
     "showTitle": false,
     "tableResultSettingsMap": {},
     "title": ""
    }
   },
   "source": [
    "Agora, será criado o stage gold, com os dados modelados através da consulta testada, de modo a facilitar a análise utilizando grupos de genero e faixa etária, assim como o cálculo de dias não logados."
   ]
  },
  {
   "cell_type": "code",
   "execution_count": 0,
   "metadata": {
    "application/vnd.databricks.v1+cell": {
     "cellMetadata": {
      "byteLimit": 2048000,
      "implicitDf": true,
      "rowLimit": 10000
     },
     "inputWidgets": {},
     "nuid": "3486afec-e268-450d-9c28-cab7e4fb6655",
     "showTitle": true,
     "tableResultSettingsMap": {},
     "title": "Removendo o database \"gold\" para recriá-lo"
    }
   },
   "outputs": [
    {
     "output_type": "display_data",
     "data": {
      "text/html": [
       "<style scoped>\n",
       "  .table-result-container {\n",
       "    max-height: 300px;\n",
       "    overflow: auto;\n",
       "  }\n",
       "  table, th, td {\n",
       "    border: 1px solid black;\n",
       "    border-collapse: collapse;\n",
       "  }\n",
       "  th, td {\n",
       "    padding: 5px;\n",
       "  }\n",
       "  th {\n",
       "    text-align: left;\n",
       "  }\n",
       "</style><div class='table-result-container'><table class='table-result'><thead style='background-color: white'><tr></tr></thead><tbody></tbody></table></div>"
      ]
     },
     "metadata": {
      "application/vnd.databricks.v1+output": {
       "addedWidgets": {},
       "aggData": [],
       "aggError": "",
       "aggOverflow": false,
       "aggSchema": [],
       "aggSeriesLimitReached": false,
       "aggType": "",
       "arguments": {},
       "columnCustomDisplayInfos": {},
       "data": [],
       "datasetInfos": [],
       "dbfsResultPath": null,
       "isJsonSchema": true,
       "metadata": {},
       "overflow": false,
       "plotOptions": {
        "customPlotOptions": {},
        "displayType": "table",
        "pivotAggregation": null,
        "pivotColumns": null,
        "xColumns": null,
        "yColumns": null
       },
       "removedWidgets": [],
       "schema": [],
       "type": "table"
      }
     },
     "output_type": "display_data"
    }
   ],
   "source": [
    "%sql DROP DATABASE gold CASCADE"
   ]
  },
  {
   "cell_type": "code",
   "execution_count": 0,
   "metadata": {
    "application/vnd.databricks.v1+cell": {
     "cellMetadata": {
      "byteLimit": 2048000,
      "implicitDf": true,
      "rowLimit": 10000
     },
     "inputWidgets": {},
     "nuid": "06c8d565-ccb0-42cd-9c50-8e5db2b49e80",
     "showTitle": true,
     "tableResultSettingsMap": {},
     "title": "Criando o database gold"
    }
   },
   "outputs": [
    {
     "output_type": "display_data",
     "data": {
      "text/html": [
       "<style scoped>\n",
       "  .table-result-container {\n",
       "    max-height: 300px;\n",
       "    overflow: auto;\n",
       "  }\n",
       "  table, th, td {\n",
       "    border: 1px solid black;\n",
       "    border-collapse: collapse;\n",
       "  }\n",
       "  th, td {\n",
       "    padding: 5px;\n",
       "  }\n",
       "  th {\n",
       "    text-align: left;\n",
       "  }\n",
       "</style><div class='table-result-container'><table class='table-result'><thead style='background-color: white'><tr></tr></thead><tbody></tbody></table></div>"
      ]
     },
     "metadata": {
      "application/vnd.databricks.v1+output": {
       "addedWidgets": {},
       "aggData": [],
       "aggError": "",
       "aggOverflow": false,
       "aggSchema": [],
       "aggSeriesLimitReached": false,
       "aggType": "",
       "arguments": {},
       "columnCustomDisplayInfos": {},
       "data": [],
       "datasetInfos": [],
       "dbfsResultPath": null,
       "isJsonSchema": true,
       "metadata": {},
       "overflow": false,
       "plotOptions": {
        "customPlotOptions": {},
        "displayType": "table",
        "pivotAggregation": null,
        "pivotColumns": null,
        "xColumns": null,
        "yColumns": null
       },
       "removedWidgets": [],
       "schema": [],
       "type": "table"
      }
     },
     "output_type": "display_data"
    }
   ],
   "source": [
    "%sql CREATE DATABASE gold"
   ]
  },
  {
   "cell_type": "code",
   "execution_count": 0,
   "metadata": {
    "application/vnd.databricks.v1+cell": {
     "cellMetadata": {
      "byteLimit": 2048000,
      "implicitDf": true,
      "rowLimit": 10000
     },
     "inputWidgets": {},
     "nuid": "a73afc11-ffc6-4f9e-924b-e3c22f2ffb3e",
     "showTitle": true,
     "tableResultSettingsMap": {},
     "title": "Criando tabela a partir da consulta testada"
    }
   },
   "outputs": [
    {
     "output_type": "display_data",
     "data": {
      "text/html": [
       "<style scoped>\n",
       "  .table-result-container {\n",
       "    max-height: 300px;\n",
       "    overflow: auto;\n",
       "  }\n",
       "  table, th, td {\n",
       "    border: 1px solid black;\n",
       "    border-collapse: collapse;\n",
       "  }\n",
       "  th, td {\n",
       "    padding: 5px;\n",
       "  }\n",
       "  th {\n",
       "    text-align: left;\n",
       "  }\n",
       "</style><div class='table-result-container'><table class='table-result'><thead style='background-color: white'><tr><th>num_affected_rows</th><th>num_inserted_rows</th></tr></thead><tbody></tbody></table></div>"
      ]
     },
     "metadata": {
      "application/vnd.databricks.v1+output": {
       "addedWidgets": {},
       "aggData": [],
       "aggError": "",
       "aggOverflow": false,
       "aggSchema": [],
       "aggSeriesLimitReached": false,
       "aggType": "",
       "arguments": {},
       "columnCustomDisplayInfos": {},
       "data": [],
       "datasetInfos": [],
       "dbfsResultPath": null,
       "isJsonSchema": true,
       "metadata": {},
       "overflow": false,
       "plotOptions": {
        "customPlotOptions": {},
        "displayType": "table",
        "pivotAggregation": null,
        "pivotColumns": null,
        "xColumns": null,
        "yColumns": null
       },
       "removedWidgets": [],
       "schema": [
        {
         "metadata": "{}",
         "name": "num_affected_rows",
         "type": "\"long\""
        },
        {
         "metadata": "{}",
         "name": "num_inserted_rows",
         "type": "\"long\""
        }
       ],
       "type": "table"
      }
     },
     "output_type": "display_data"
    }
   ],
   "source": [
    "%sql CREATE TABLE gold.netflix_users AS\n",
    "SELECT *,\n",
    "DATEDIFF('2025-03-08', Last_Login) as Not_Logged_Days,\n",
    "CASE \n",
    "  WHEN Age < 18 THEN 'Teenager'\n",
    "  WHEN Age >= 18 and Age <= 28 THEN 'Young-Adult'\n",
    "  WHEN Age > 28 and Age <= 39 THEN 'Adult'\n",
    "  WHEN Age > 39 and Age <= 64 THEN 'Middle-Aged'\n",
    "  WHEN Age > 64 THEN 'Senior'\n",
    "END AS Age_Groups,\n",
    "CASE\n",
    "  WHEN SPLIT_PART(Name, ' ', 1) in ('James', 'Chris', 'Michael', 'John', 'David') THEN 'Male'\n",
    "  WHEN SPLIT_PART(Name, ' ', 1) in ('Katie', 'Sarah', 'Alex', 'Emma', 'Jane') THEN 'Female'\n",
    "END AS Gender\n",
    "\n",
    "FROM silver.netflix_users"
   ]
  },
  {
   "cell_type": "code",
   "execution_count": 0,
   "metadata": {
    "application/vnd.databricks.v1+cell": {
     "cellMetadata": {
      "byteLimit": 2048000,
      "implicitDf": true,
      "rowLimit": 10000
     },
     "inputWidgets": {},
     "nuid": "2ac62a9b-4157-484b-901b-a54ae9ada1f2",
     "showTitle": true,
     "tableResultSettingsMap": {},
     "title": "Verificando dados"
    }
   },
   "outputs": [
    {
     "output_type": "display_data",
     "data": {
      "text/html": [
       "<style scoped>\n",
       "  .table-result-container {\n",
       "    max-height: 300px;\n",
       "    overflow: auto;\n",
       "  }\n",
       "  table, th, td {\n",
       "    border: 1px solid black;\n",
       "    border-collapse: collapse;\n",
       "  }\n",
       "  th, td {\n",
       "    padding: 5px;\n",
       "  }\n",
       "  th {\n",
       "    text-align: left;\n",
       "  }\n",
       "</style><div class='table-result-container'><table class='table-result'><thead style='background-color: white'><tr><th>User_ID</th><th>Name</th><th>Age</th><th>Country</th><th>Subscription_Type</th><th>Watch_Time_Hours</th><th>Favorite_Genre</th><th>Last_Login</th><th>Not_Logged_Days</th><th>Age_Groups</th><th>Gender</th></tr></thead><tbody><tr><td>1</td><td>James Martinez</td><td>18</td><td>France</td><td>Premium</td><td>80.26</td><td>Drama</td><td>2024-05-12</td><td>300</td><td>Young-Adult</td><td>Male</td></tr><tr><td>2</td><td>John Miller</td><td>23</td><td>USA</td><td>Premium</td><td>321.75</td><td>Sci-Fi</td><td>2025-02-05</td><td>31</td><td>Young-Adult</td><td>Male</td></tr><tr><td>3</td><td>Emma Davis</td><td>60</td><td>UK</td><td>Basic</td><td>35.89</td><td>Comedy</td><td>2025-01-24</td><td>43</td><td>Middle-Aged</td><td>Female</td></tr><tr><td>4</td><td>Emma Miller</td><td>44</td><td>USA</td><td>Premium</td><td>261.56</td><td>Documentary</td><td>2024-03-25</td><td>348</td><td>Middle-Aged</td><td>Female</td></tr><tr><td>5</td><td>Jane Smith</td><td>68</td><td>USA</td><td>Standard</td><td>909.30</td><td>Drama</td><td>2025-01-14</td><td>53</td><td>Senior</td><td>Female</td></tr><tr><td>6</td><td>David Johnson</td><td>21</td><td>USA</td><td>Standard</td><td>615.93</td><td>Romance</td><td>2025-02-03</td><td>33</td><td>Young-Adult</td><td>Male</td></tr><tr><td>7</td><td>John Hernandez</td><td>57</td><td>Canada</td><td>Standard</td><td>755.47</td><td>Romance</td><td>2025-01-05</td><td>62</td><td>Middle-Aged</td><td>Male</td></tr><tr><td>8</td><td>Katie Hernandez</td><td>68</td><td>USA</td><td>Standard</td><td>145.23</td><td>Sci-Fi</td><td>2024-10-30</td><td>129</td><td>Senior</td><td>Female</td></tr><tr><td>9</td><td>James Williams</td><td>39</td><td>UK</td><td>Basic</td><td>950.14</td><td>Action</td><td>2024-04-16</td><td>326</td><td>Adult</td><td>Male</td></tr><tr><td>10</td><td>Alex Davis</td><td>55</td><td>Mexico</td><td>Standard</td><td>696.66</td><td>Horror</td><td>2024-07-03</td><td>248</td><td>Middle-Aged</td><td>Female</td></tr></tbody></table></div>"
      ]
     },
     "metadata": {
      "application/vnd.databricks.v1+output": {
       "addedWidgets": {},
       "aggData": [],
       "aggError": "",
       "aggOverflow": false,
       "aggSchema": [],
       "aggSeriesLimitReached": false,
       "aggType": "",
       "arguments": {},
       "columnCustomDisplayInfos": {},
       "data": [
        [
         "1",
         "James Martinez",
         18,
         "France",
         "Premium",
         "80.26",
         "Drama",
         "2024-05-12",
         300,
         "Young-Adult",
         "Male"
        ],
        [
         "2",
         "John Miller",
         23,
         "USA",
         "Premium",
         "321.75",
         "Sci-Fi",
         "2025-02-05",
         31,
         "Young-Adult",
         "Male"
        ],
        [
         "3",
         "Emma Davis",
         60,
         "UK",
         "Basic",
         "35.89",
         "Comedy",
         "2025-01-24",
         43,
         "Middle-Aged",
         "Female"
        ],
        [
         "4",
         "Emma Miller",
         44,
         "USA",
         "Premium",
         "261.56",
         "Documentary",
         "2024-03-25",
         348,
         "Middle-Aged",
         "Female"
        ],
        [
         "5",
         "Jane Smith",
         68,
         "USA",
         "Standard",
         "909.30",
         "Drama",
         "2025-01-14",
         53,
         "Senior",
         "Female"
        ],
        [
         "6",
         "David Johnson",
         21,
         "USA",
         "Standard",
         "615.93",
         "Romance",
         "2025-02-03",
         33,
         "Young-Adult",
         "Male"
        ],
        [
         "7",
         "John Hernandez",
         57,
         "Canada",
         "Standard",
         "755.47",
         "Romance",
         "2025-01-05",
         62,
         "Middle-Aged",
         "Male"
        ],
        [
         "8",
         "Katie Hernandez",
         68,
         "USA",
         "Standard",
         "145.23",
         "Sci-Fi",
         "2024-10-30",
         129,
         "Senior",
         "Female"
        ],
        [
         "9",
         "James Williams",
         39,
         "UK",
         "Basic",
         "950.14",
         "Action",
         "2024-04-16",
         326,
         "Adult",
         "Male"
        ],
        [
         "10",
         "Alex Davis",
         55,
         "Mexico",
         "Standard",
         "696.66",
         "Horror",
         "2024-07-03",
         248,
         "Middle-Aged",
         "Female"
        ]
       ],
       "datasetInfos": [],
       "dbfsResultPath": null,
       "isJsonSchema": true,
       "metadata": {},
       "overflow": false,
       "plotOptions": {
        "customPlotOptions": {},
        "displayType": "table",
        "pivotAggregation": null,
        "pivotColumns": null,
        "xColumns": null,
        "yColumns": null
       },
       "removedWidgets": [],
       "schema": [
        {
         "metadata": "{}",
         "name": "User_ID",
         "type": "\"string\""
        },
        {
         "metadata": "{}",
         "name": "Name",
         "type": "\"string\""
        },
        {
         "metadata": "{}",
         "name": "Age",
         "type": "\"integer\""
        },
        {
         "metadata": "{}",
         "name": "Country",
         "type": "\"string\""
        },
        {
         "metadata": "{}",
         "name": "Subscription_Type",
         "type": "\"string\""
        },
        {
         "metadata": "{}",
         "name": "Watch_Time_Hours",
         "type": "\"decimal(10,2)\""
        },
        {
         "metadata": "{}",
         "name": "Favorite_Genre",
         "type": "\"string\""
        },
        {
         "metadata": "{}",
         "name": "Last_Login",
         "type": "\"date\""
        },
        {
         "metadata": "{}",
         "name": "Not_Logged_Days",
         "type": "\"integer\""
        },
        {
         "metadata": "{}",
         "name": "Age_Groups",
         "type": "\"string\""
        },
        {
         "metadata": "{}",
         "name": "Gender",
         "type": "\"string\""
        }
       ],
       "type": "table"
      }
     },
     "output_type": "display_data"
    }
   ],
   "source": [
    "%sql SELECT * FROM gold.netflix_users\n",
    "LIMIT 10"
   ]
  },
  {
   "cell_type": "markdown",
   "metadata": {
    "application/vnd.databricks.v1+cell": {
     "cellMetadata": {},
     "inputWidgets": {},
     "nuid": "6fc49761-d420-43ec-8c75-a5e84c4758ec",
     "showTitle": false,
     "tableResultSettingsMap": {},
     "title": ""
    }
   },
   "source": [
    "#### Catálogo de dados tabela gold.netflix_users\n",
    "\n",
    "###### - `User_ID` - Identificador único para cada usuário (PK)\n",
    "    string;\n",
    "    deve conter apenas dados únicos;\n",
    "    não deve conter nulos;\n",
    "    faixa: [1 - 25000];\n",
    "\n",
    "###### - `Name` - Nome do usuário\n",
    "    string;\n",
    "    deve contar apenas dados únicos;\n",
    "    não deve conter nulos;\n",
    "\n",
    "###### - `Age` - Idade do usuário\n",
    "    integer;\n",
    "    não deve conter nulos;\n",
    "    faixa: [13 - 80];\n",
    "\n",
    "###### - `Country` - País de residência do usuário\n",
    "    string;\n",
    "    não deve conter nulos;\n",
    "\n",
    "###### - `Subscription_Type` - Plano contratado pelo usuário\n",
    "    string;\n",
    "    não deve conter nulos;\n",
    "    categórico: [Basic, Standard, Premium];\n",
    "\n",
    "###### - `Watch_Time_Hours` - Tempo de utilização da plataforma pelo usuário\n",
    "    decimal;\n",
    "    pode conter nulos;\n",
    "    faixa: [0-999,9];\n",
    "\n",
    "###### - `Favorite_genre` - Genêro favorito do usuário\n",
    "    string;\n",
    "    não pode conter nulos;\n",
    "    categórico: [Horror, Documentary, Action, Romance, Comedy]\n",
    "\n",
    "###### - `Last_Login` - Data na qual o usuário fez seu último login na plataforma\n",
    "    date;\n",
    "    não pode conter nulos;\n",
    "\n",
    "###### - `Not_Logged_Days` - Dias desde o último login do usuário na plataforma\n",
    "    integer;\n",
    "    não pode conter nulos;\n",
    "    modelado;\n",
    "\n",
    "###### - `Age_groups` - Faixa etária do usuário\n",
    "    string;\n",
    "    não pode conter nulos;\n",
    "    modelado;\n",
    "    categórico: [Teenager, Young-Adult, Adult, Middle-Aged, Senior]\n",
    "\n",
    "###### - `Gender` - Genêro do usuário\n",
    "    string;\n",
    "    não pode conter nulos;\n",
    "    modelado;\n",
    "    categórico: [Male, Female]\n",
    "\n",
    "\n",
    "\n"
   ]
  },
  {
   "cell_type": "markdown",
   "metadata": {
    "application/vnd.databricks.v1+cell": {
     "cellMetadata": {},
     "inputWidgets": {},
     "nuid": "fb693394-f559-440c-95b1-5f4a13ceed81",
     "showTitle": false,
     "tableResultSettingsMap": {},
     "title": ""
    }
   },
   "source": [
    "Agora, seguimos para criar consultas de análise de dados, de modo a responder as demais perguntas realizadas"
   ]
  },
  {
   "cell_type": "markdown",
   "metadata": {
    "application/vnd.databricks.v1+cell": {
     "cellMetadata": {},
     "inputWidgets": {},
     "nuid": "cba6aa04-2251-48bd-bead-41295ccc171c",
     "showTitle": false,
     "tableResultSettingsMap": {},
     "title": ""
    }
   },
   "source": [
    "#### 3. Existe alguma faixa etária mais presente entre os usuários?![](path)"
   ]
  },
  {
   "cell_type": "code",
   "execution_count": 0,
   "metadata": {
    "application/vnd.databricks.v1+cell": {
     "cellMetadata": {
      "byteLimit": 2048000,
      "implicitDf": true,
      "rowLimit": 10000
     },
     "inputWidgets": {},
     "nuid": "13fa687d-8bf4-4137-b31e-7a150c193cf2",
     "showTitle": true,
     "tableResultSettingsMap": {},
     "title": "Análise pergunta 3"
    }
   },
   "outputs": [
    {
     "output_type": "display_data",
     "data": {
      "text/html": [
       "<style scoped>\n",
       "  .table-result-container {\n",
       "    max-height: 300px;\n",
       "    overflow: auto;\n",
       "  }\n",
       "  table, th, td {\n",
       "    border: 1px solid black;\n",
       "    border-collapse: collapse;\n",
       "  }\n",
       "  th, td {\n",
       "    padding: 5px;\n",
       "  }\n",
       "  th {\n",
       "    text-align: left;\n",
       "  }\n",
       "</style><div class='table-result-container'><table class='table-result'><thead style='background-color: white'><tr><th>Age_groups</th><th>users</th><th>share</th></tr></thead><tbody><tr><td>Middle-Aged</td><td>9304</td><td>37.216</td></tr><tr><td>Senior</td><td>5822</td><td>23.288</td></tr><tr><td>Young-Adult</td><td>4104</td><td>16.416</td></tr><tr><td>Adult</td><td>3957</td><td>15.828000000000001</td></tr><tr><td>Teenager</td><td>1813</td><td>7.252</td></tr></tbody></table></div>"
      ]
     },
     "metadata": {
      "application/vnd.databricks.v1+output": {
       "addedWidgets": {},
       "aggData": [],
       "aggError": "",
       "aggOverflow": false,
       "aggSchema": [],
       "aggSeriesLimitReached": false,
       "aggType": "",
       "arguments": {},
       "columnCustomDisplayInfos": {},
       "data": [
        [
         "Middle-Aged",
         9304,
         37.216
        ],
        [
         "Senior",
         5822,
         23.288
        ],
        [
         "Young-Adult",
         4104,
         16.416
        ],
        [
         "Adult",
         3957,
         15.828000000000001
        ],
        [
         "Teenager",
         1813,
         7.252
        ]
       ],
       "datasetInfos": [],
       "dbfsResultPath": null,
       "isJsonSchema": true,
       "metadata": {},
       "overflow": false,
       "plotOptions": {
        "customPlotOptions": {},
        "displayType": "table",
        "pivotAggregation": null,
        "pivotColumns": null,
        "xColumns": null,
        "yColumns": null
       },
       "removedWidgets": [],
       "schema": [
        {
         "metadata": "{}",
         "name": "Age_groups",
         "type": "\"string\""
        },
        {
         "metadata": "{}",
         "name": "users",
         "type": "\"long\""
        },
        {
         "metadata": "{}",
         "name": "share",
         "type": "\"double\""
        }
       ],
       "type": "table"
      }
     },
     "output_type": "display_data"
    }
   ],
   "source": [
    "%sql WITH base AS (\n",
    "  SELECT Age_groups, COUNT (Name) AS users\n",
    "  FROM gold.netflix_users\n",
    "  GROUP BY Age_groups\n",
    "  ORDER BY users DESC\n",
    ")\n",
    "SELECT Age_groups, users, (users / (SELECT SUM(users) FROM base) * 100) AS share\n",
    "FROM base\n",
    "GROUP BY Age_groups, users"
   ]
  },
  {
   "cell_type": "markdown",
   "metadata": {
    "application/vnd.databricks.v1+cell": {
     "cellMetadata": {},
     "inputWidgets": {},
     "nuid": "0865a60e-9422-4339-a20b-cebaa5f3b9f8",
     "showTitle": false,
     "tableResultSettingsMap": {},
     "title": ""
    }
   },
   "source": [
    "Observa-se uma maior quantidade de usuários na categoria Adulto de meia idade, representando 37,216% da base de usuários, enquanto que o menor grupo é de adolescentes, representando 7,252% da base"
   ]
  },
  {
   "cell_type": "markdown",
   "metadata": {
    "application/vnd.databricks.v1+cell": {
     "cellMetadata": {},
     "inputWidgets": {},
     "nuid": "3ecd406c-52a7-44d7-8b75-31b8adbfb1ba",
     "showTitle": false,
     "tableResultSettingsMap": {},
     "title": ""
    }
   },
   "source": [
    "#### 4. Como se distribui os usuários em relação ao genêro (masculino x feminino)?"
   ]
  },
  {
   "cell_type": "code",
   "execution_count": 0,
   "metadata": {
    "application/vnd.databricks.v1+cell": {
     "cellMetadata": {
      "byteLimit": 2048000,
      "implicitDf": true,
      "rowLimit": 10000
     },
     "inputWidgets": {},
     "nuid": "fffb7dfb-7b10-41a8-97eb-f809c3666cb8",
     "showTitle": true,
     "tableResultSettingsMap": {},
     "title": "Análise pergunta 4"
    }
   },
   "outputs": [
    {
     "output_type": "display_data",
     "data": {
      "text/html": [
       "<style scoped>\n",
       "  .table-result-container {\n",
       "    max-height: 300px;\n",
       "    overflow: auto;\n",
       "  }\n",
       "  table, th, td {\n",
       "    border: 1px solid black;\n",
       "    border-collapse: collapse;\n",
       "  }\n",
       "  th, td {\n",
       "    padding: 5px;\n",
       "  }\n",
       "  th {\n",
       "    text-align: left;\n",
       "  }\n",
       "</style><div class='table-result-container'><table class='table-result'><thead style='background-color: white'><tr><th>Gender</th><th>users</th><th>share</th></tr></thead><tbody><tr><td>Female</td><td>12589</td><td>50.356</td></tr><tr><td>Male</td><td>12411</td><td>49.644</td></tr></tbody></table></div>"
      ]
     },
     "metadata": {
      "application/vnd.databricks.v1+output": {
       "addedWidgets": {},
       "aggData": [],
       "aggError": "",
       "aggOverflow": false,
       "aggSchema": [],
       "aggSeriesLimitReached": false,
       "aggType": "",
       "arguments": {},
       "columnCustomDisplayInfos": {},
       "data": [
        [
         "Female",
         12589,
         50.356
        ],
        [
         "Male",
         12411,
         49.644
        ]
       ],
       "datasetInfos": [],
       "dbfsResultPath": null,
       "isJsonSchema": true,
       "metadata": {},
       "overflow": false,
       "plotOptions": {
        "customPlotOptions": {},
        "displayType": "table",
        "pivotAggregation": null,
        "pivotColumns": null,
        "xColumns": null,
        "yColumns": null
       },
       "removedWidgets": [],
       "schema": [
        {
         "metadata": "{}",
         "name": "Gender",
         "type": "\"string\""
        },
        {
         "metadata": "{}",
         "name": "users",
         "type": "\"long\""
        },
        {
         "metadata": "{}",
         "name": "share",
         "type": "\"double\""
        }
       ],
       "type": "table"
      }
     },
     "output_type": "display_data"
    }
   ],
   "source": [
    "%sql WITH base AS (\n",
    "  SELECT Gender, COUNT (Name) AS users\n",
    "  FROM gold.netflix_users\n",
    "  GROUP BY Gender\n",
    "  ORDER BY users DESC\n",
    ")\n",
    "SELECT Gender, users, (users / (SELECT SUM(users) FROM base) * 100) AS share\n",
    "FROM base\n",
    "GROUP BY Gender, users"
   ]
  },
  {
   "cell_type": "markdown",
   "metadata": {
    "application/vnd.databricks.v1+cell": {
     "cellMetadata": {},
     "inputWidgets": {},
     "nuid": "83cac662-5d61-4c5a-8186-06b7d86a7c43",
     "showTitle": false,
     "tableResultSettingsMap": {},
     "title": ""
    }
   },
   "source": [
    "A base é bem distribuída entre usuários do sexo masculino (49,64%) e feminino (50,36%)"
   ]
  },
  {
   "cell_type": "markdown",
   "metadata": {
    "application/vnd.databricks.v1+cell": {
     "cellMetadata": {},
     "inputWidgets": {},
     "nuid": "2fea35a3-4a08-42fb-977b-335b67fece39",
     "showTitle": false,
     "tableResultSettingsMap": {},
     "title": ""
    }
   },
   "source": [
    "#### 5. Usuários mais jovens tem maior tempo de visualização na plataforma?"
   ]
  },
  {
   "cell_type": "code",
   "execution_count": 0,
   "metadata": {
    "application/vnd.databricks.v1+cell": {
     "cellMetadata": {
      "byteLimit": 2048000,
      "implicitDf": true,
      "rowLimit": 10000
     },
     "inputWidgets": {},
     "nuid": "e4af59ff-d682-47de-9ada-2c4821bdc3bd",
     "showTitle": true,
     "tableResultSettingsMap": {},
     "title": "Análise pergunta 5"
    }
   },
   "outputs": [
    {
     "output_type": "display_data",
     "data": {
      "text/html": [
       "<style scoped>\n",
       "  .table-result-container {\n",
       "    max-height: 300px;\n",
       "    overflow: auto;\n",
       "  }\n",
       "  table, th, td {\n",
       "    border: 1px solid black;\n",
       "    border-collapse: collapse;\n",
       "  }\n",
       "  th, td {\n",
       "    padding: 5px;\n",
       "  }\n",
       "  th {\n",
       "    text-align: left;\n",
       "  }\n",
       "</style><div class='table-result-container'><table class='table-result'><thead style='background-color: white'><tr><th>Age_groups</th><th>avg_watch_Time_Hours</th></tr></thead><tbody><tr><td>Adult</td><td>508.816053</td></tr><tr><td>Senior</td><td>505.454686</td></tr><tr><td>Middle-Aged</td><td>497.751509</td></tr><tr><td>Young-Adult</td><td>496.026545</td></tr><tr><td>Teenager</td><td>490.240579</td></tr></tbody></table></div>"
      ]
     },
     "metadata": {
      "application/vnd.databricks.v1+output": {
       "addedWidgets": {},
       "aggData": [],
       "aggError": "",
       "aggOverflow": false,
       "aggSchema": [],
       "aggSeriesLimitReached": false,
       "aggType": "",
       "arguments": {},
       "columnCustomDisplayInfos": {},
       "data": [
        [
         "Adult",
         "508.816053"
        ],
        [
         "Senior",
         "505.454686"
        ],
        [
         "Middle-Aged",
         "497.751509"
        ],
        [
         "Young-Adult",
         "496.026545"
        ],
        [
         "Teenager",
         "490.240579"
        ]
       ],
       "datasetInfos": [],
       "dbfsResultPath": null,
       "isJsonSchema": true,
       "metadata": {},
       "overflow": false,
       "plotOptions": {
        "customPlotOptions": {},
        "displayType": "table",
        "pivotAggregation": null,
        "pivotColumns": null,
        "xColumns": null,
        "yColumns": null
       },
       "removedWidgets": [],
       "schema": [
        {
         "metadata": "{}",
         "name": "Age_groups",
         "type": "\"string\""
        },
        {
         "metadata": "{}",
         "name": "avg_watch_Time_Hours",
         "type": "\"decimal(14,6)\""
        }
       ],
       "type": "table"
      }
     },
     "output_type": "display_data"
    }
   ],
   "source": [
    "%sql SELECT Age_groups, AVG (Watch_Time_Hours) AS avg_watch_Time_Hours\n",
    "FROM gold.netflix_users\n",
    "GROUP BY Age_groups\n",
    "ORDER BY avg_watch_Time_Hours DESC"
   ]
  },
  {
   "cell_type": "markdown",
   "metadata": {
    "application/vnd.databricks.v1+cell": {
     "cellMetadata": {},
     "inputWidgets": {},
     "nuid": "93e4dd5c-5ee8-4502-9e73-28bcfd941aa3",
     "showTitle": false,
     "tableResultSettingsMap": {},
     "title": ""
    }
   },
   "source": [
    "Invalidando a hipótese da pergunta, na realidade, usuários adolecentes tem a menor média de tempo na plataforma dentre os diferentes grupos etários, ficando 490,24h em média na plataforma. Seguido pelo jovem adulto.\n",
    "\n",
    "Os usuários de maior tempo médio são adultos com em média 508,8h e idosos com 505,5h."
   ]
  },
  {
   "cell_type": "markdown",
   "metadata": {
    "application/vnd.databricks.v1+cell": {
     "cellMetadata": {},
     "inputWidgets": {},
     "nuid": "24ce9729-6eec-407f-94ec-0c1183902e5f",
     "showTitle": false,
     "tableResultSettingsMap": {},
     "title": ""
    }
   },
   "source": [
    "#### 6. Usuários mais idosos ficam mais tempo sem logar?\n"
   ]
  },
  {
   "cell_type": "code",
   "execution_count": 0,
   "metadata": {
    "application/vnd.databricks.v1+cell": {
     "cellMetadata": {
      "byteLimit": 2048000,
      "implicitDf": true,
      "rowLimit": 10000
     },
     "inputWidgets": {},
     "nuid": "1ada2eae-4a37-4181-9f01-48c01cf73a13",
     "showTitle": true,
     "tableResultSettingsMap": {},
     "title": "Análise pergunta 6"
    }
   },
   "outputs": [
    {
     "output_type": "display_data",
     "data": {
      "text/html": [
       "<style scoped>\n",
       "  .table-result-container {\n",
       "    max-height: 300px;\n",
       "    overflow: auto;\n",
       "  }\n",
       "  table, th, td {\n",
       "    border: 1px solid black;\n",
       "    border-collapse: collapse;\n",
       "  }\n",
       "  th, td {\n",
       "    padding: 5px;\n",
       "  }\n",
       "  th {\n",
       "    text-align: left;\n",
       "  }\n",
       "</style><div class='table-result-container'><table class='table-result'><thead style='background-color: white'><tr><th>Age_groups</th><th>avg_Not_Logged_Days</th></tr></thead><tbody><tr><td>Young-Adult</td><td>184.33771929824562</td></tr><tr><td>Teenager</td><td>183.59073359073358</td></tr><tr><td>Middle-Aged</td><td>182.26730438521065</td></tr><tr><td>Adult</td><td>180.2203689663887</td></tr><tr><td>Senior</td><td>179.96873926485745</td></tr></tbody></table></div>"
      ]
     },
     "metadata": {
      "application/vnd.databricks.v1+output": {
       "addedWidgets": {},
       "aggData": [],
       "aggError": "",
       "aggOverflow": false,
       "aggSchema": [],
       "aggSeriesLimitReached": false,
       "aggType": "",
       "arguments": {},
       "columnCustomDisplayInfos": {},
       "data": [
        [
         "Young-Adult",
         184.33771929824562
        ],
        [
         "Teenager",
         183.59073359073358
        ],
        [
         "Middle-Aged",
         182.26730438521065
        ],
        [
         "Adult",
         180.2203689663887
        ],
        [
         "Senior",
         179.96873926485745
        ]
       ],
       "datasetInfos": [],
       "dbfsResultPath": null,
       "isJsonSchema": true,
       "metadata": {},
       "overflow": false,
       "plotOptions": {
        "customPlotOptions": {},
        "displayType": "table",
        "pivotAggregation": null,
        "pivotColumns": null,
        "xColumns": null,
        "yColumns": null
       },
       "removedWidgets": [],
       "schema": [
        {
         "metadata": "{}",
         "name": "Age_groups",
         "type": "\"string\""
        },
        {
         "metadata": "{}",
         "name": "avg_Not_Logged_Days",
         "type": "\"double\""
        }
       ],
       "type": "table"
      }
     },
     "output_type": "display_data"
    }
   ],
   "source": [
    "%sql SELECT Age_groups, AVG (Not_Logged_Days) AS avg_Not_Logged_Days\n",
    "FROM gold.netflix_users\n",
    "GROUP BY Age_groups\n",
    "ORDER BY avg_Not_Logged_Days DESC"
   ]
  },
  {
   "cell_type": "markdown",
   "metadata": {
    "application/vnd.databricks.v1+cell": {
     "cellMetadata": {},
     "inputWidgets": {},
     "nuid": "ec36de06-c201-47ec-9a49-a3dfdeb774dc",
     "showTitle": false,
     "tableResultSettingsMap": {},
     "title": ""
    }
   },
   "source": [
    "Também invalidando a hipótese da pergunta, idosos são, na verdade aqueles que estão, em média, a menos tempo sem logar (179,97h)"
   ]
  },
  {
   "cell_type": "markdown",
   "metadata": {
    "application/vnd.databricks.v1+cell": {
     "cellMetadata": {},
     "inputWidgets": {},
     "nuid": "6f7b6d4e-d5bf-430e-8f44-560bc3d3d3b0",
     "showTitle": false,
     "tableResultSettingsMap": {},
     "title": ""
    }
   },
   "source": [
    "#### 7. Existe algum genero de filme de preferência? Esse genêro muda por país? E por faixa etária? E por sexo?"
   ]
  },
  {
   "cell_type": "code",
   "execution_count": 0,
   "metadata": {
    "application/vnd.databricks.v1+cell": {
     "cellMetadata": {
      "byteLimit": 2048000,
      "implicitDf": true,
      "rowLimit": 10000
     },
     "inputWidgets": {},
     "nuid": "1468a7ee-7dfe-434e-8a44-43f56e5ef5f3",
     "showTitle": true,
     "tableResultSettingsMap": {},
     "title": "Análise pergunta 7.1"
    }
   },
   "outputs": [
    {
     "output_type": "display_data",
     "data": {
      "text/html": [
       "<style scoped>\n",
       "  .table-result-container {\n",
       "    max-height: 300px;\n",
       "    overflow: auto;\n",
       "  }\n",
       "  table, th, td {\n",
       "    border: 1px solid black;\n",
       "    border-collapse: collapse;\n",
       "  }\n",
       "  th, td {\n",
       "    padding: 5px;\n",
       "  }\n",
       "  th {\n",
       "    text-align: left;\n",
       "  }\n",
       "</style><div class='table-result-container'><table class='table-result'><thead style='background-color: white'><tr><th>Favorite_genre</th><th>users</th></tr></thead><tbody><tr><td>Horror</td><td>3654</td></tr><tr><td>Documentary</td><td>3636</td></tr><tr><td>Action</td><td>3589</td></tr><tr><td>Romance</td><td>3572</td></tr><tr><td>Comedy</td><td>3561</td></tr><tr><td>Drama</td><td>3533</td></tr><tr><td>Sci-Fi</td><td>3455</td></tr></tbody></table></div>"
      ]
     },
     "metadata": {
      "application/vnd.databricks.v1+output": {
       "addedWidgets": {},
       "aggData": [],
       "aggError": "",
       "aggOverflow": false,
       "aggSchema": [],
       "aggSeriesLimitReached": false,
       "aggType": "",
       "arguments": {},
       "columnCustomDisplayInfos": {},
       "data": [
        [
         "Horror",
         3654
        ],
        [
         "Documentary",
         3636
        ],
        [
         "Action",
         3589
        ],
        [
         "Romance",
         3572
        ],
        [
         "Comedy",
         3561
        ],
        [
         "Drama",
         3533
        ],
        [
         "Sci-Fi",
         3455
        ]
       ],
       "datasetInfos": [],
       "dbfsResultPath": null,
       "isJsonSchema": true,
       "metadata": {},
       "overflow": false,
       "plotOptions": {
        "customPlotOptions": {},
        "displayType": "table",
        "pivotAggregation": null,
        "pivotColumns": null,
        "xColumns": null,
        "yColumns": null
       },
       "removedWidgets": [],
       "schema": [
        {
         "metadata": "{}",
         "name": "Favorite_genre",
         "type": "\"string\""
        },
        {
         "metadata": "{}",
         "name": "users",
         "type": "\"long\""
        }
       ],
       "type": "table"
      }
     },
     "output_type": "display_data"
    }
   ],
   "source": [
    "%sql SELECT Favorite_genre, COUNT (Name) AS users\n",
    "FROM gold.netflix_users\n",
    "GROUP BY Favorite_genre\n",
    "ORDER BY users DESC"
   ]
  },
  {
   "cell_type": "markdown",
   "metadata": {
    "application/vnd.databricks.v1+cell": {
     "cellMetadata": {},
     "inputWidgets": {},
     "nuid": "5f871e41-6327-4f61-b0ae-983df739b342",
     "showTitle": false,
     "tableResultSettingsMap": {},
     "title": ""
    }
   },
   "source": [
    "Embora o genêro Horror seja mais presente, a distribuição entre os diferentes genêros na base avaliada é muito próxima.\n",
    "\n",
    "Observaremos a base verificando por sexo do usuário e país:"
   ]
  },
  {
   "cell_type": "code",
   "execution_count": 0,
   "metadata": {
    "application/vnd.databricks.v1+cell": {
     "cellMetadata": {
      "byteLimit": 2048000,
      "implicitDf": true,
      "rowLimit": 10000
     },
     "inputWidgets": {},
     "nuid": "21caba14-e951-4ca4-8dd6-1c1b26854c0b",
     "showTitle": true,
     "tableResultSettingsMap": {},
     "title": "Análise pergunta 7.2"
    }
   },
   "outputs": [
    {
     "output_type": "display_data",
     "data": {
      "text/html": [
       "<style scoped>\n",
       "  .table-result-container {\n",
       "    max-height: 300px;\n",
       "    overflow: auto;\n",
       "  }\n",
       "  table, th, td {\n",
       "    border: 1px solid black;\n",
       "    border-collapse: collapse;\n",
       "  }\n",
       "  th, td {\n",
       "    padding: 5px;\n",
       "  }\n",
       "  th {\n",
       "    text-align: left;\n",
       "  }\n",
       "</style><div class='table-result-container'><table class='table-result'><thead style='background-color: white'><tr><th>Favorite_genre</th><th>Country</th><th>users</th></tr></thead><tbody><tr><td>Documentary</td><td>Australia</td><td>368</td></tr><tr><td>Romance</td><td>Australia</td><td>358</td></tr><tr><td>Sci-Fi</td><td>Australia</td><td>352</td></tr><tr><td>Horror</td><td>Australia</td><td>351</td></tr><tr><td>Drama</td><td>Australia</td><td>348</td></tr><tr><td>Action</td><td>Australia</td><td>330</td></tr><tr><td>Comedy</td><td>Australia</td><td>330</td></tr><tr><td>Romance</td><td>Brazil</td><td>376</td></tr><tr><td>Comedy</td><td>Brazil</td><td>373</td></tr><tr><td>Action</td><td>Brazil</td><td>364</td></tr><tr><td>Horror</td><td>Brazil</td><td>363</td></tr><tr><td>Documentary</td><td>Brazil</td><td>348</td></tr><tr><td>Drama</td><td>Brazil</td><td>342</td></tr><tr><td>Sci-Fi</td><td>Brazil</td><td>337</td></tr><tr><td>Action</td><td>Canada</td><td>378</td></tr><tr><td>Documentary</td><td>Canada</td><td>374</td></tr><tr><td>Drama</td><td>Canada</td><td>368</td></tr><tr><td>Comedy</td><td>Canada</td><td>363</td></tr><tr><td>Horror</td><td>Canada</td><td>358</td></tr><tr><td>Romance</td><td>Canada</td><td>328</td></tr><tr><td>Sci-Fi</td><td>Canada</td><td>321</td></tr><tr><td>Documentary</td><td>France</td><td>378</td></tr><tr><td>Action</td><td>France</td><td>367</td></tr><tr><td>Horror</td><td>France</td><td>364</td></tr><tr><td>Drama</td><td>France</td><td>360</td></tr><tr><td>Comedy</td><td>France</td><td>347</td></tr><tr><td>Romance</td><td>France</td><td>335</td></tr><tr><td>Sci-Fi</td><td>France</td><td>322</td></tr><tr><td>Sci-Fi</td><td>Germany</td><td>385</td></tr><tr><td>Horror</td><td>Germany</td><td>382</td></tr><tr><td>Comedy</td><td>Germany</td><td>372</td></tr><tr><td>Action</td><td>Germany</td><td>370</td></tr><tr><td>Romance</td><td>Germany</td><td>369</td></tr><tr><td>Documentary</td><td>Germany</td><td>340</td></tr><tr><td>Drama</td><td>Germany</td><td>329</td></tr><tr><td>Romance</td><td>India</td><td>399</td></tr><tr><td>Action</td><td>India</td><td>372</td></tr><tr><td>Horror</td><td>India</td><td>370</td></tr><tr><td>Comedy</td><td>India</td><td>360</td></tr><tr><td>Sci-Fi</td><td>India</td><td>340</td></tr><tr><td>Documentary</td><td>India</td><td>333</td></tr><tr><td>Drama</td><td>India</td><td>331</td></tr><tr><td>Documentary</td><td>Japan</td><td>372</td></tr><tr><td>Drama</td><td>Japan</td><td>371</td></tr><tr><td>Horror</td><td>Japan</td><td>361</td></tr><tr><td>Romance</td><td>Japan</td><td>349</td></tr><tr><td>Sci-Fi</td><td>Japan</td><td>340</td></tr><tr><td>Action</td><td>Japan</td><td>333</td></tr><tr><td>Comedy</td><td>Japan</td><td>331</td></tr><tr><td>Documentary</td><td>Mexico</td><td>370</td></tr><tr><td>Sci-Fi</td><td>Mexico</td><td>366</td></tr><tr><td>Romance</td><td>Mexico</td><td>356</td></tr><tr><td>Horror</td><td>Mexico</td><td>355</td></tr><tr><td>Action</td><td>Mexico</td><td>355</td></tr><tr><td>Drama</td><td>Mexico</td><td>347</td></tr><tr><td>Comedy</td><td>Mexico</td><td>344</td></tr><tr><td>Horror</td><td>UK</td><td>399</td></tr><tr><td>Documentary</td><td>UK</td><td>373</td></tr><tr><td>Sci-Fi</td><td>UK</td><td>373</td></tr><tr><td>Comedy</td><td>UK</td><td>370</td></tr><tr><td>Action</td><td>UK</td><td>360</td></tr><tr><td>Drama</td><td>UK</td><td>359</td></tr><tr><td>Romance</td><td>UK</td><td>358</td></tr><tr><td>Documentary</td><td>USA</td><td>380</td></tr><tr><td>Drama</td><td>USA</td><td>378</td></tr><tr><td>Comedy</td><td>USA</td><td>371</td></tr><tr><td>Action</td><td>USA</td><td>360</td></tr><tr><td>Horror</td><td>USA</td><td>351</td></tr><tr><td>Romance</td><td>USA</td><td>344</td></tr><tr><td>Sci-Fi</td><td>USA</td><td>319</td></tr></tbody></table></div>"
      ]
     },
     "metadata": {
      "application/vnd.databricks.v1+output": {
       "addedWidgets": {},
       "aggData": [],
       "aggError": "",
       "aggOverflow": false,
       "aggSchema": [],
       "aggSeriesLimitReached": false,
       "aggType": "",
       "arguments": {},
       "columnCustomDisplayInfos": {},
       "data": [
        [
         "Documentary",
         "Australia",
         368
        ],
        [
         "Romance",
         "Australia",
         358
        ],
        [
         "Sci-Fi",
         "Australia",
         352
        ],
        [
         "Horror",
         "Australia",
         351
        ],
        [
         "Drama",
         "Australia",
         348
        ],
        [
         "Action",
         "Australia",
         330
        ],
        [
         "Comedy",
         "Australia",
         330
        ],
        [
         "Romance",
         "Brazil",
         376
        ],
        [
         "Comedy",
         "Brazil",
         373
        ],
        [
         "Action",
         "Brazil",
         364
        ],
        [
         "Horror",
         "Brazil",
         363
        ],
        [
         "Documentary",
         "Brazil",
         348
        ],
        [
         "Drama",
         "Brazil",
         342
        ],
        [
         "Sci-Fi",
         "Brazil",
         337
        ],
        [
         "Action",
         "Canada",
         378
        ],
        [
         "Documentary",
         "Canada",
         374
        ],
        [
         "Drama",
         "Canada",
         368
        ],
        [
         "Comedy",
         "Canada",
         363
        ],
        [
         "Horror",
         "Canada",
         358
        ],
        [
         "Romance",
         "Canada",
         328
        ],
        [
         "Sci-Fi",
         "Canada",
         321
        ],
        [
         "Documentary",
         "France",
         378
        ],
        [
         "Action",
         "France",
         367
        ],
        [
         "Horror",
         "France",
         364
        ],
        [
         "Drama",
         "France",
         360
        ],
        [
         "Comedy",
         "France",
         347
        ],
        [
         "Romance",
         "France",
         335
        ],
        [
         "Sci-Fi",
         "France",
         322
        ],
        [
         "Sci-Fi",
         "Germany",
         385
        ],
        [
         "Horror",
         "Germany",
         382
        ],
        [
         "Comedy",
         "Germany",
         372
        ],
        [
         "Action",
         "Germany",
         370
        ],
        [
         "Romance",
         "Germany",
         369
        ],
        [
         "Documentary",
         "Germany",
         340
        ],
        [
         "Drama",
         "Germany",
         329
        ],
        [
         "Romance",
         "India",
         399
        ],
        [
         "Action",
         "India",
         372
        ],
        [
         "Horror",
         "India",
         370
        ],
        [
         "Comedy",
         "India",
         360
        ],
        [
         "Sci-Fi",
         "India",
         340
        ],
        [
         "Documentary",
         "India",
         333
        ],
        [
         "Drama",
         "India",
         331
        ],
        [
         "Documentary",
         "Japan",
         372
        ],
        [
         "Drama",
         "Japan",
         371
        ],
        [
         "Horror",
         "Japan",
         361
        ],
        [
         "Romance",
         "Japan",
         349
        ],
        [
         "Sci-Fi",
         "Japan",
         340
        ],
        [
         "Action",
         "Japan",
         333
        ],
        [
         "Comedy",
         "Japan",
         331
        ],
        [
         "Documentary",
         "Mexico",
         370
        ],
        [
         "Sci-Fi",
         "Mexico",
         366
        ],
        [
         "Romance",
         "Mexico",
         356
        ],
        [
         "Horror",
         "Mexico",
         355
        ],
        [
         "Action",
         "Mexico",
         355
        ],
        [
         "Drama",
         "Mexico",
         347
        ],
        [
         "Comedy",
         "Mexico",
         344
        ],
        [
         "Horror",
         "UK",
         399
        ],
        [
         "Documentary",
         "UK",
         373
        ],
        [
         "Sci-Fi",
         "UK",
         373
        ],
        [
         "Comedy",
         "UK",
         370
        ],
        [
         "Action",
         "UK",
         360
        ],
        [
         "Drama",
         "UK",
         359
        ],
        [
         "Romance",
         "UK",
         358
        ],
        [
         "Documentary",
         "USA",
         380
        ],
        [
         "Drama",
         "USA",
         378
        ],
        [
         "Comedy",
         "USA",
         371
        ],
        [
         "Action",
         "USA",
         360
        ],
        [
         "Horror",
         "USA",
         351
        ],
        [
         "Romance",
         "USA",
         344
        ],
        [
         "Sci-Fi",
         "USA",
         319
        ]
       ],
       "datasetInfos": [],
       "dbfsResultPath": null,
       "isJsonSchema": true,
       "metadata": {},
       "overflow": false,
       "plotOptions": {
        "customPlotOptions": {},
        "displayType": "table",
        "pivotAggregation": null,
        "pivotColumns": null,
        "xColumns": null,
        "yColumns": null
       },
       "removedWidgets": [],
       "schema": [
        {
         "metadata": "{}",
         "name": "Favorite_genre",
         "type": "\"string\""
        },
        {
         "metadata": "{}",
         "name": "Country",
         "type": "\"string\""
        },
        {
         "metadata": "{}",
         "name": "users",
         "type": "\"long\""
        }
       ],
       "type": "table"
      }
     },
     "output_type": "display_data"
    }
   ],
   "source": [
    "%sql SELECT Favorite_genre, Country, COUNT (Name) AS users\n",
    "FROM gold.netflix_users\n",
    "GROUP BY Country, Favorite_genre\n",
    "ORDER BY Country, users DESC"
   ]
  },
  {
   "cell_type": "markdown",
   "metadata": {
    "application/vnd.databricks.v1+cell": {
     "cellMetadata": {},
     "inputWidgets": {},
     "nuid": "bafd27e7-9fe3-4b3f-9eec-b4afd5b87a89",
     "showTitle": false,
     "tableResultSettingsMap": {},
     "title": ""
    }
   },
   "source": [
    "Embora os diferentes generos favoritos sejam bem distribuídos, existe sim uma leve diferenciação por país entre os diferentes genêros preferidos entre os usuários avaliados, por exemplo:\n",
    "\n",
    "No Brasile e India, o genero favorito é romance, enquanto que na Austrália, França, Japão, México e USA é Documentário, já no Canadá é Ação, na Alemanha Sci-Fi e no UK Horror."
   ]
  },
  {
   "cell_type": "code",
   "execution_count": 0,
   "metadata": {
    "application/vnd.databricks.v1+cell": {
     "cellMetadata": {
      "byteLimit": 2048000,
      "implicitDf": true,
      "rowLimit": 10000
     },
     "inputWidgets": {},
     "nuid": "7cf09abb-ea27-4e3f-8efc-6d7ce01fec10",
     "showTitle": true,
     "tableResultSettingsMap": {},
     "title": "Análise 7.3"
    }
   },
   "outputs": [
    {
     "output_type": "display_data",
     "data": {
      "text/html": [
       "<style scoped>\n",
       "  .table-result-container {\n",
       "    max-height: 300px;\n",
       "    overflow: auto;\n",
       "  }\n",
       "  table, th, td {\n",
       "    border: 1px solid black;\n",
       "    border-collapse: collapse;\n",
       "  }\n",
       "  th, td {\n",
       "    padding: 5px;\n",
       "  }\n",
       "  th {\n",
       "    text-align: left;\n",
       "  }\n",
       "</style><div class='table-result-container'><table class='table-result'><thead style='background-color: white'><tr><th>Favorite_genre</th><th>Age_Groups</th><th>users</th></tr></thead><tbody><tr><td>Sci-Fi</td><td>Adult</td><td>603</td></tr><tr><td>Romance</td><td>Adult</td><td>590</td></tr><tr><td>Documentary</td><td>Adult</td><td>584</td></tr><tr><td>Horror</td><td>Adult</td><td>571</td></tr><tr><td>Action</td><td>Adult</td><td>562</td></tr><tr><td>Comedy</td><td>Adult</td><td>536</td></tr><tr><td>Drama</td><td>Adult</td><td>511</td></tr><tr><td>Horror</td><td>Middle-Aged</td><td>1389</td></tr><tr><td>Drama</td><td>Middle-Aged</td><td>1348</td></tr><tr><td>Documentary</td><td>Middle-Aged</td><td>1342</td></tr><tr><td>Romance</td><td>Middle-Aged</td><td>1325</td></tr><tr><td>Comedy</td><td>Middle-Aged</td><td>1325</td></tr><tr><td>Action</td><td>Middle-Aged</td><td>1311</td></tr><tr><td>Sci-Fi</td><td>Middle-Aged</td><td>1264</td></tr><tr><td>Documentary</td><td>Senior</td><td>884</td></tr><tr><td>Action</td><td>Senior</td><td>876</td></tr><tr><td>Comedy</td><td>Senior</td><td>843</td></tr><tr><td>Drama</td><td>Senior</td><td>843</td></tr><tr><td>Horror</td><td>Senior</td><td>804</td></tr><tr><td>Romance</td><td>Senior</td><td>791</td></tr><tr><td>Sci-Fi</td><td>Senior</td><td>781</td></tr><tr><td>Comedy</td><td>Teenager</td><td>282</td></tr><tr><td>Documentary</td><td>Teenager</td><td>262</td></tr><tr><td>Romance</td><td>Teenager</td><td>262</td></tr><tr><td>Horror</td><td>Teenager</td><td>259</td></tr><tr><td>Drama</td><td>Teenager</td><td>257</td></tr><tr><td>Action</td><td>Teenager</td><td>257</td></tr><tr><td>Sci-Fi</td><td>Teenager</td><td>234</td></tr><tr><td>Horror</td><td>Young-Adult</td><td>631</td></tr><tr><td>Romance</td><td>Young-Adult</td><td>604</td></tr><tr><td>Action</td><td>Young-Adult</td><td>583</td></tr><tr><td>Comedy</td><td>Young-Adult</td><td>575</td></tr><tr><td>Drama</td><td>Young-Adult</td><td>574</td></tr><tr><td>Sci-Fi</td><td>Young-Adult</td><td>573</td></tr><tr><td>Documentary</td><td>Young-Adult</td><td>564</td></tr></tbody></table></div>"
      ]
     },
     "metadata": {
      "application/vnd.databricks.v1+output": {
       "addedWidgets": {},
       "aggData": [],
       "aggError": "",
       "aggOverflow": false,
       "aggSchema": [],
       "aggSeriesLimitReached": false,
       "aggType": "",
       "arguments": {},
       "columnCustomDisplayInfos": {},
       "data": [
        [
         "Sci-Fi",
         "Adult",
         603
        ],
        [
         "Romance",
         "Adult",
         590
        ],
        [
         "Documentary",
         "Adult",
         584
        ],
        [
         "Horror",
         "Adult",
         571
        ],
        [
         "Action",
         "Adult",
         562
        ],
        [
         "Comedy",
         "Adult",
         536
        ],
        [
         "Drama",
         "Adult",
         511
        ],
        [
         "Horror",
         "Middle-Aged",
         1389
        ],
        [
         "Drama",
         "Middle-Aged",
         1348
        ],
        [
         "Documentary",
         "Middle-Aged",
         1342
        ],
        [
         "Romance",
         "Middle-Aged",
         1325
        ],
        [
         "Comedy",
         "Middle-Aged",
         1325
        ],
        [
         "Action",
         "Middle-Aged",
         1311
        ],
        [
         "Sci-Fi",
         "Middle-Aged",
         1264
        ],
        [
         "Documentary",
         "Senior",
         884
        ],
        [
         "Action",
         "Senior",
         876
        ],
        [
         "Comedy",
         "Senior",
         843
        ],
        [
         "Drama",
         "Senior",
         843
        ],
        [
         "Horror",
         "Senior",
         804
        ],
        [
         "Romance",
         "Senior",
         791
        ],
        [
         "Sci-Fi",
         "Senior",
         781
        ],
        [
         "Comedy",
         "Teenager",
         282
        ],
        [
         "Documentary",
         "Teenager",
         262
        ],
        [
         "Romance",
         "Teenager",
         262
        ],
        [
         "Horror",
         "Teenager",
         259
        ],
        [
         "Drama",
         "Teenager",
         257
        ],
        [
         "Action",
         "Teenager",
         257
        ],
        [
         "Sci-Fi",
         "Teenager",
         234
        ],
        [
         "Horror",
         "Young-Adult",
         631
        ],
        [
         "Romance",
         "Young-Adult",
         604
        ],
        [
         "Action",
         "Young-Adult",
         583
        ],
        [
         "Comedy",
         "Young-Adult",
         575
        ],
        [
         "Drama",
         "Young-Adult",
         574
        ],
        [
         "Sci-Fi",
         "Young-Adult",
         573
        ],
        [
         "Documentary",
         "Young-Adult",
         564
        ]
       ],
       "datasetInfos": [],
       "dbfsResultPath": null,
       "isJsonSchema": true,
       "metadata": {},
       "overflow": false,
       "plotOptions": {
        "customPlotOptions": {},
        "displayType": "table",
        "pivotAggregation": null,
        "pivotColumns": null,
        "xColumns": null,
        "yColumns": null
       },
       "removedWidgets": [],
       "schema": [
        {
         "metadata": "{}",
         "name": "Favorite_genre",
         "type": "\"string\""
        },
        {
         "metadata": "{}",
         "name": "Age_Groups",
         "type": "\"string\""
        },
        {
         "metadata": "{}",
         "name": "users",
         "type": "\"long\""
        }
       ],
       "type": "table"
      }
     },
     "output_type": "display_data"
    }
   ],
   "source": [
    "%sql SELECT Favorite_genre, Age_Groups, COUNT (Name) AS users\n",
    "FROM gold.netflix_users\n",
    "GROUP BY Age_Groups, Favorite_genre\n",
    "ORDER BY Age_Groups, users DESC"
   ]
  },
  {
   "cell_type": "markdown",
   "metadata": {
    "application/vnd.databricks.v1+cell": {
     "cellMetadata": {},
     "inputWidgets": {},
     "nuid": "9a860b2a-4122-4ae5-a866-11a8ef1ae170",
     "showTitle": false,
     "tableResultSettingsMap": {},
     "title": ""
    }
   },
   "source": [
    "Também existe uma diferença de genêro preferido nas diferentes faixas etárias (reforçando que dentro da mesma faixa etária, a distribuição é muito próxima)\n",
    "\n",
    "Adultos tem um share maior na categoria Sci-Fi,  Jovens adultos e adultos de meia idade preferem Horror, enquanto idosos preferem documentários e adolescentes comédia."
   ]
  },
  {
   "cell_type": "code",
   "execution_count": 0,
   "metadata": {
    "application/vnd.databricks.v1+cell": {
     "cellMetadata": {
      "byteLimit": 2048000,
      "implicitDf": true,
      "rowLimit": 10000
     },
     "inputWidgets": {},
     "nuid": "070a0610-7974-43f7-8094-688243b25a25",
     "showTitle": true,
     "tableResultSettingsMap": {},
     "title": "Análise 7.4"
    }
   },
   "outputs": [
    {
     "output_type": "display_data",
     "data": {
      "text/html": [
       "<style scoped>\n",
       "  .table-result-container {\n",
       "    max-height: 300px;\n",
       "    overflow: auto;\n",
       "  }\n",
       "  table, th, td {\n",
       "    border: 1px solid black;\n",
       "    border-collapse: collapse;\n",
       "  }\n",
       "  th, td {\n",
       "    padding: 5px;\n",
       "  }\n",
       "  th {\n",
       "    text-align: left;\n",
       "  }\n",
       "</style><div class='table-result-container'><table class='table-result'><thead style='background-color: white'><tr><th>Favorite_genre</th><th>Gender</th><th>users</th></tr></thead><tbody><tr><td>Horror</td><td>Female</td><td>1821</td></tr><tr><td>Documentary</td><td>Female</td><td>1818</td></tr><tr><td>Action</td><td>Female</td><td>1818</td></tr><tr><td>Comedy</td><td>Female</td><td>1813</td></tr><tr><td>Drama</td><td>Female</td><td>1802</td></tr><tr><td>Romance</td><td>Female</td><td>1783</td></tr><tr><td>Sci-Fi</td><td>Female</td><td>1734</td></tr><tr><td>Horror</td><td>Male</td><td>1833</td></tr><tr><td>Documentary</td><td>Male</td><td>1818</td></tr><tr><td>Romance</td><td>Male</td><td>1789</td></tr><tr><td>Action</td><td>Male</td><td>1771</td></tr><tr><td>Comedy</td><td>Male</td><td>1748</td></tr><tr><td>Drama</td><td>Male</td><td>1731</td></tr><tr><td>Sci-Fi</td><td>Male</td><td>1721</td></tr></tbody></table></div>"
      ]
     },
     "metadata": {
      "application/vnd.databricks.v1+output": {
       "addedWidgets": {},
       "aggData": [],
       "aggError": "",
       "aggOverflow": false,
       "aggSchema": [],
       "aggSeriesLimitReached": false,
       "aggType": "",
       "arguments": {},
       "columnCustomDisplayInfos": {},
       "data": [
        [
         "Horror",
         "Female",
         1821
        ],
        [
         "Documentary",
         "Female",
         1818
        ],
        [
         "Action",
         "Female",
         1818
        ],
        [
         "Comedy",
         "Female",
         1813
        ],
        [
         "Drama",
         "Female",
         1802
        ],
        [
         "Romance",
         "Female",
         1783
        ],
        [
         "Sci-Fi",
         "Female",
         1734
        ],
        [
         "Horror",
         "Male",
         1833
        ],
        [
         "Documentary",
         "Male",
         1818
        ],
        [
         "Romance",
         "Male",
         1789
        ],
        [
         "Action",
         "Male",
         1771
        ],
        [
         "Comedy",
         "Male",
         1748
        ],
        [
         "Drama",
         "Male",
         1731
        ],
        [
         "Sci-Fi",
         "Male",
         1721
        ]
       ],
       "datasetInfos": [],
       "dbfsResultPath": null,
       "isJsonSchema": true,
       "metadata": {},
       "overflow": false,
       "plotOptions": {
        "customPlotOptions": {},
        "displayType": "table",
        "pivotAggregation": null,
        "pivotColumns": null,
        "xColumns": null,
        "yColumns": null
       },
       "removedWidgets": [],
       "schema": [
        {
         "metadata": "{}",
         "name": "Favorite_genre",
         "type": "\"string\""
        },
        {
         "metadata": "{}",
         "name": "Gender",
         "type": "\"string\""
        },
        {
         "metadata": "{}",
         "name": "users",
         "type": "\"long\""
        }
       ],
       "type": "table"
      }
     },
     "output_type": "display_data"
    }
   ],
   "source": [
    "%sql SELECT Favorite_genre, Gender, COUNT (Name) AS users\n",
    "FROM gold.netflix_users\n",
    "GROUP BY Gender, Favorite_genre\n",
    "ORDER BY Gender, users DESC"
   ]
  },
  {
   "cell_type": "markdown",
   "metadata": {
    "application/vnd.databricks.v1+cell": {
     "cellMetadata": {},
     "inputWidgets": {},
     "nuid": "9872dab0-1a6a-494e-885b-908f31330d48",
     "showTitle": false,
     "tableResultSettingsMap": {},
     "title": ""
    }
   },
   "source": [
    "A distribuição entre genêros é muito próxima para ambos os sexos, sendo Horror e Documentário os favoritos em ambos e casos e Sci-Fi o menos adorado em ambos os casos.\n",
    "\n",
    "Adicionando uma nova pergunta à análise: Usuários que preferem um determino genero de filme tem mais tempo de tela?"
   ]
  },
  {
   "cell_type": "code",
   "execution_count": 0,
   "metadata": {
    "application/vnd.databricks.v1+cell": {
     "cellMetadata": {
      "byteLimit": 2048000,
      "implicitDf": true,
      "rowLimit": 10000
     },
     "inputWidgets": {},
     "nuid": "2395fff6-59e0-48ed-8765-2364d4cc07b9",
     "showTitle": true,
     "tableResultSettingsMap": {},
     "title": "Análise pergunta 7.5"
    }
   },
   "outputs": [
    {
     "output_type": "display_data",
     "data": {
      "text/html": [
       "<style scoped>\n",
       "  .table-result-container {\n",
       "    max-height: 300px;\n",
       "    overflow: auto;\n",
       "  }\n",
       "  table, th, td {\n",
       "    border: 1px solid black;\n",
       "    border-collapse: collapse;\n",
       "  }\n",
       "  th, td {\n",
       "    padding: 5px;\n",
       "  }\n",
       "  th {\n",
       "    text-align: left;\n",
       "  }\n",
       "</style><div class='table-result-container'><table class='table-result'><thead style='background-color: white'><tr><th>Favorite_genre</th><th>avg_watch_Time_Hours</th></tr></thead><tbody><tr><td>Romance</td><td>506.899950</td></tr><tr><td>Drama</td><td>504.482423</td></tr><tr><td>Comedy</td><td>501.868756</td></tr><tr><td>Documentary</td><td>500.694868</td></tr><tr><td>Action</td><td>498.495163</td></tr><tr><td>Sci-Fi</td><td>496.379340</td></tr><tr><td>Horror</td><td>494.517649</td></tr></tbody></table></div>"
      ]
     },
     "metadata": {
      "application/vnd.databricks.v1+output": {
       "addedWidgets": {},
       "aggData": [],
       "aggError": "",
       "aggOverflow": false,
       "aggSchema": [],
       "aggSeriesLimitReached": false,
       "aggType": "",
       "arguments": {},
       "columnCustomDisplayInfos": {},
       "data": [
        [
         "Romance",
         "506.899950"
        ],
        [
         "Drama",
         "504.482423"
        ],
        [
         "Comedy",
         "501.868756"
        ],
        [
         "Documentary",
         "500.694868"
        ],
        [
         "Action",
         "498.495163"
        ],
        [
         "Sci-Fi",
         "496.379340"
        ],
        [
         "Horror",
         "494.517649"
        ]
       ],
       "datasetInfos": [],
       "dbfsResultPath": null,
       "isJsonSchema": true,
       "metadata": {},
       "overflow": false,
       "plotOptions": {
        "customPlotOptions": {},
        "displayType": "table",
        "pivotAggregation": null,
        "pivotColumns": null,
        "xColumns": null,
        "yColumns": null
       },
       "removedWidgets": [],
       "schema": [
        {
         "metadata": "{}",
         "name": "Favorite_genre",
         "type": "\"string\""
        },
        {
         "metadata": "{}",
         "name": "avg_watch_Time_Hours",
         "type": "\"decimal(14,6)\""
        }
       ],
       "type": "table"
      }
     },
     "output_type": "display_data"
    }
   ],
   "source": [
    "%sql SELECT Favorite_genre, AVG (Watch_Time_Hours) AS avg_watch_Time_Hours\n",
    "FROM gold.netflix_users\n",
    "GROUP BY Favorite_genre\n",
    "ORDER BY avg_watch_Time_Hours DESC"
   ]
  },
  {
   "cell_type": "markdown",
   "metadata": {
    "application/vnd.databricks.v1+cell": {
     "cellMetadata": {},
     "inputWidgets": {},
     "nuid": "f02f608a-6895-4306-a19d-94313cf06dd6",
     "showTitle": false,
     "tableResultSettingsMap": {},
     "title": ""
    }
   },
   "source": [
    "Usuários que gostam de Romance são os mais presentes na plataforma, com uma média de 506,9h de tempo de visualização, enquanto àqueles que gostam de horror tem menor resultado, ficando em média 494,5h na plataforma."
   ]
  },
  {
   "cell_type": "markdown",
   "metadata": {
    "application/vnd.databricks.v1+cell": {
     "cellMetadata": {},
     "inputWidgets": {},
     "nuid": "9ab6d094-3445-4a64-8d4a-3a27cd6638cc",
     "showTitle": false,
     "tableResultSettingsMap": {},
     "title": ""
    }
   },
   "source": [
    "Com isso, todas as perguntas foram respondidas, incluindo uma variação da pergunta 7 que surgiu ao longo do caminho.\n",
    "\n",
    "As hipóteses testadas nas perguntas 5 e 6 foram invalidadas."
   ]
  },
  {
   "cell_type": "markdown",
   "metadata": {
    "application/vnd.databricks.v1+cell": {
     "cellMetadata": {},
     "inputWidgets": {},
     "nuid": "a2f3cbac-2dfd-4153-951d-3b83a87ab676",
     "showTitle": false,
     "tableResultSettingsMap": {},
     "title": ""
    }
   },
   "source": [
    "#### Autoavaliação\n",
    "\n",
    "Iniciei o MVP sem muita direção do que deveria fazer, as aulas me ajudaram bastante no direcionamento, assim com as respostas no discord. Com isso, consegui entender bem o objetivo do trabalho e a forma esperada de execução.\n",
    "\n",
    "Como trabalho em um marketplace e estudo bastante comportamente de usuário no plataforma, achei que seria interessante olhar esse cenário no MVP utilizando dados de utilização da netflix, tema de meu interesse. Por isso, busquei datasets nesse contexto.\n",
    "\n",
    "No decorrer do trabaho, percebi que o dataset escolhido, por ser fictíccio era muito simples e com uma distribuição muito similar entre grupos, o que tornou o trabalho um pouco menos interessante quando o objetivo era insights sobre o comportamento do usuário da netflix.\n",
    "\n",
    "A pergunta voltada para genero dos usuários não seria possível de ser respondida em um banco mais variado, uma vez que exisitiriam mais de 10 primeiros nomes, a classificação se tornaria inviável, portanto, essa foi uma pergunta que só foi respondida devido a simplicidade dos dados.\n",
    "\n",
    "O dataset escolhido também facilitou o trabalho de qualidade de dados, uma vez que não havia dados fora do padrão, outliers ou nulos.\n",
    "\n",
    "Um outro ponto negativo desse dataset é que ele já contém alguns dados agregados, por exemplo o tempo de visualização. Em um novo cenário para insights mais detalhados seria interessante ter uma tabela de usuários, com User_Id [PK] e atributos desse usuário (por exemplo, o genero poderia estar aqui, de modo a não ser necessária a separação por primeiro nome) e uma tabela de sessões (Sesion_ID (PK) e User_ID (FK)) onde teríamos o tempo de acesso e cada genêro acessado, não somente o genero favorito. Esse tipo de estrutura tornaria a modelagem mais rica e os resultados das análises também.\n",
    "\n",
    "Apesar dos pontos de atenção citados, foi possível executar o pipeline de dados em nuvem e criar uma modelagem de flat table que facilitasse as análises e as perguntas propostas foram respondidas utilizando SQL de forma simples e direta.\n",
    "\n",
    "Dessa forma, considero que o projeto e o relatório cumprem os requisitos e o aprendizado foi de grande valia para a minha carreira, uma vez que nunca  tinha atuado com o databricks e criação de pipelines de dados.\n"
   ]
  }
 ],
 "metadata": {
  "application/vnd.databricks.v1+notebook": {
   "computePreferences": null,
   "dashboards": [],
   "environmentMetadata": {
    "base_environment": "",
    "environment_version": "1"
   },
   "inputWidgetPreferences": null,
   "language": "python",
   "notebookMetadata": {
    "mostRecentlyExecutedCommandWithImplicitDF": {
     "commandId": 206761363712725,
     "dataframes": [
      "_sqldf"
     ]
    },
    "pythonIndentUnit": 4
   },
   "notebookName": "mvp_marina_duarte",
   "widgets": {}
  }
 },
 "nbformat": 4,
 "nbformat_minor": 0
}